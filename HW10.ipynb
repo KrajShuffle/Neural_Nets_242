{
 "cells": [
  {
   "cell_type": "markdown",
   "id": "10044e65",
   "metadata": {},
   "source": [
    "## 1a:"
   ]
  },
  {
   "cell_type": "code",
   "execution_count": 1,
   "id": "95741fc3",
   "metadata": {},
   "outputs": [],
   "source": [
    "import pickle\n",
    "import pandas as pd\n",
    "import matplotlib.pyplot as plt\n",
    "import sklearn \n",
    "import numpy as np\n",
    "import seaborn as sns"
   ]
  },
  {
   "cell_type": "code",
   "execution_count": 2,
   "id": "1739d073",
   "metadata": {},
   "outputs": [
    {
     "name": "stdout",
     "output_type": "stream",
     "text": [
      "X_train: (60000, 32, 32)\n",
      "Y_train: (60000,)\n",
      "X_test:  (10000, 32, 32)\n",
      "Y_test:  (10000,)\n"
     ]
    },
    {
     "data": {
      "image/png": "[encoded data removed]",
      "text/plain": [
       "<Figure size 640x480 with 9 Axes>"
      ]
     },
     "metadata": {},
     "output_type": "display_data"
    }
   ],
   "source": [
    "(train_X, train_y), (test_X, test_y) = pickle.load(open(\"mnist.pkl\", \"rb\"))\n",
    " \n",
    "#shape of dataset\n",
    "print('X_train: ' + str(train_X.shape))\n",
    "print('Y_train: ' + str(train_y.shape))\n",
    "print('X_test:  '  + str(test_X.shape))\n",
    "print('Y_test:  '  + str(test_y.shape))\n",
    " \n",
    "#plotting\n",
    "import matplotlib.pyplot as plt\n",
    "%matplotlib inline\n",
    "plt.figure()\n",
    "for i in range(9):  \n",
    "    plt.subplot(3,3,i+1)\n",
    "    plt.imshow(train_X[i], cmap=plt.get_cmap('gray'))\n"
   ]
  },
  {
   "cell_type": "code",
   "execution_count": 25,
   "id": "db3a1a20",
   "metadata": {},
   "outputs": [],
   "source": [
    "import torch\n",
    "from torch import nn\n",
    "\n",
    "class CNN(nn.Module):\n",
    "    def __init__(self):\n",
    "        super(CNN, self).__init__()\n",
    "        self.conv = nn.ModuleList([nn.Conv2d(in_channels= 1, out_channels= 6,kernel_size = 5, stride = 1, padding= 0),\n",
    "                                   nn.Conv2d(in_channels= 6, out_channels= 12,kernel_size = 5, stride = 1, padding= 0)])\n",
    "        self.fc = nn.ModuleList([nn.Linear(300, 300), nn.Linear(300, 10) ])\n",
    "        self.bn = [nn.BatchNorm2d(6),nn.BatchNorm2d(12)]\n",
    "        self.pooling = nn.MaxPool2d(kernel_size = 2)\n",
    "        self.activation = nn.ReLU()\n",
    "        \n",
    "    def forward(self, x):\n",
    "        for i in range(2):\n",
    "            x = self.pooling(self.activation(self.bn[i](self.conv[i](x))))\n",
    "        x = nn.Flatten() (x)\n",
    "        res2 = x\n",
    "        y = self.activation(self.fc[0] (x))\n",
    "        y = y + res2\n",
    "        y = self.fc[1](y)\n",
    "        return y  "
   ]
  },
  {
   "cell_type": "code",
   "execution_count": 26,
   "id": "b602d5b7",
   "metadata": {},
   "outputs": [
    {
     "name": "stdout",
     "output_type": "stream",
     "text": [
      "==========================================================================================\n",
      "Layer (type:depth-idx)                   Output Shape              Param #\n",
      "==========================================================================================\n",
      "├─ModuleList: 1                          []                        --\n",
      "|    └─Conv2d: 2-1                       [-1, 6, 28, 28]           156\n",
      "├─ReLU: 1-1                              [-1, 6, 28, 28]           --\n",
      "├─MaxPool2d: 1-2                         [-1, 6, 14, 14]           --\n",
      "├─ModuleList: 1                          []                        --\n",
      "|    └─Conv2d: 2-2                       [-1, 12, 10, 10]          1,812\n",
      "├─ReLU: 1-3                              [-1, 12, 10, 10]          --\n",
      "├─MaxPool2d: 1-4                         [-1, 12, 5, 5]            --\n",
      "├─ModuleList: 1                          []                        --\n",
      "|    └─Linear: 2-3                       [-1, 300]                 90,300\n",
      "├─ReLU: 1-5                              [-1, 300]                 --\n",
      "├─ModuleList: 1                          []                        --\n",
      "|    └─Linear: 2-4                       [-1, 10]                  3,010\n",
      "==========================================================================================\n",
      "Total params: 95,278\n",
      "Trainable params: 95,278\n",
      "Non-trainable params: 0\n",
      "Total mult-adds (M): 0.39\n",
      "==========================================================================================\n",
      "Input size (MB): 0.00\n",
      "Forward/backward pass size (MB): 0.05\n",
      "Params size (MB): 0.36\n",
      "Estimated Total Size (MB): 0.41\n",
      "==========================================================================================\n"
     ]
    }
   ],
   "source": [
    "from torchsummary import summary\n",
    "model = CNN()\n",
    "# Input is the (number of channels, image height, image width) if input is 2d, essentially the 2 dimensions of it\n",
    "s = summary(model, (1,32,32))"
   ]
  },
  {
   "cell_type": "code",
   "execution_count": 15,
   "id": "4d6c85ae",
   "metadata": {},
   "outputs": [],
   "source": [
    "from functools import wraps\n",
    "from time import time\n",
    "\n",
    "def timing(f):\n",
    "    @wraps(f)\n",
    "    def wrap(*args, **kw):\n",
    "        ts = time()\n",
    "        result = f(*args, **kw)\n",
    "        te = time()\n",
    "        print('func:%r  took: %2.4f sec' % (f.__name__,  te-ts))\n",
    "        return result\n",
    "    return wrap"
   ]
  },
  {
   "cell_type": "code",
   "execution_count": 16,
   "id": "82a4c492",
   "metadata": {},
   "outputs": [],
   "source": [
    "from torch.optim import SGD, Adam\n",
    "import torch\n",
    "from torch import nn\n",
    "import torch.nn.functional as F\n",
    "import random\n",
    "from tqdm import tqdm\n",
    "import math\n",
    "from sklearn.model_selection import train_test_split\n",
    "\n",
    "def create_chunks(complete_list, chunk_size=None, num_chunks=None):\n",
    "    '''\n",
    "    Cut a list into multiple chunks, each having chunk_size (the last chunk might be less than chunk_size) or having a total of num_chunk chunks\n",
    "    '''\n",
    "    chunks = []\n",
    "    if num_chunks is None:\n",
    "        num_chunks = math.ceil(len(complete_list) / chunk_size)\n",
    "    elif chunk_size is None:\n",
    "        chunk_size = math.ceil(len(complete_list) / num_chunks)\n",
    "    for i in range(num_chunks):\n",
    "        chunks.append(complete_list[i * chunk_size: (i + 1) * chunk_size])\n",
    "    return chunks\n",
    "\n",
    "class Trainer():\n",
    "    def __init__(self, model, optimizer_type, learning_rate, epoch, batch_size, \n",
    "                 input_transform=lambda x: x.reshape(x.shape[0], 1, x.shape[1], x.shape[2])):\n",
    "        \"\"\" The class for training the model\n",
    "        model: nn.Module\n",
    "            A pytorch model\n",
    "        optimizer_type: 'adam' or 'sgd'\n",
    "        learning_rate: float\n",
    "        epoch: int\n",
    "        batch_size: int\n",
    "        input_transform: func\n",
    "            transforming input. Can do reshape here\n",
    "        \"\"\"\n",
    "        self.model = model\n",
    "        if optimizer_type == \"sgd\":\n",
    "            self.optimizer = SGD(model.parameters(), learning_rate,momentum=0.9)\n",
    "        elif optimizer_type == \"adam\":\n",
    "            self.optimizer = Adam(model.parameters(), learning_rate)\n",
    "            \n",
    "        self.epoch = epoch\n",
    "        self.batch_size = batch_size\n",
    "        self.input_transform = input_transform\n",
    "\n",
    "\n",
    "    @timing\n",
    "    def train(self, inputs, outputs, val_inputs, val_outputs,early_stop=False,l2=False,silent=False, tens_logger = None):\n",
    "        \"\"\" train self.model with specified arguments\n",
    "        inputs: np.array, The shape of input_transform(input) should be (ndata,nfeatures)\n",
    "        outputs: np.array shape (ndata,)\n",
    "        val_inputs: np.array, The shape of input_transform(val_input) should be (ndata,nfeatures)\n",
    "        val_outputs: np.array shape (ndata,)\n",
    "        early_stop: bool\n",
    "        l2: bool\n",
    "        silent: bool. Controls whether or not to print the train and val error during training\n",
    "        \n",
    "        @return\n",
    "        a dictionary of arrays with train and val losses and accuracies\n",
    "        \"\"\"\n",
    "        ### convert data to tensor of correct shape and type here ###\n",
    "        # Conversion of input arrays to correct shape\n",
    "        train_input = self.input_transform(inputs)\n",
    "        val_inputs = self.input_transform(val_inputs)\n",
    "        \n",
    "        # Conversion of arrays to tensors\n",
    "        inputs = torch.tensor(train_input, dtype= torch.float)\n",
    "        outputs = torch.tensor(outputs, dtype = torch.int64)\n",
    "        \n",
    "        losses = []\n",
    "        accuracies = []\n",
    "        val_losses = []\n",
    "        val_accuracies = []\n",
    "        weights = self.model.state_dict()\n",
    "        lowest_val_loss = np.inf\n",
    "        \n",
    "        for n_epoch in tqdm(range(self.epoch), leave=False):\n",
    "            self.model.train()\n",
    "            batch_indices = list(range(inputs.shape[0]))\n",
    "            random.shuffle(batch_indices)\n",
    "            batch_indices = create_chunks(batch_indices, chunk_size=self.batch_size)\n",
    "            epoch_loss = 0\n",
    "            epoch_acc = 0\n",
    "            for batch in batch_indices:\n",
    "                batch_importance = len(batch) / len(outputs)\n",
    "                batch_input = inputs[batch]\n",
    "                batch_output = outputs[batch]\n",
    "                ### make prediction and compute loss with loss function of your choice on this batch ###\n",
    "                batch_predictions = self.model(batch_input)\n",
    "                loss = nn.CrossEntropyLoss()(batch_predictions, batch_output)\n",
    "                if l2:\n",
    "                    ### Compute the loss with L2 regularization ###\n",
    "                    # Square and sum each entry in each of the arrays and then sum all outputs from all arrays\n",
    "                    loss = loss + 1e-5 * sum([(wei ** 2).sum() for wei in self.model.parameters()])\n",
    "                self.optimizer.zero_grad()\n",
    "                loss.backward()\n",
    "                self.optimizer.step()\n",
    "                ### Compute epoch_loss and epoch_acc\n",
    "                epoch_loss += loss.detach().item() * batch_importance\n",
    "                acc = sum(torch.argmax(batch_predictions, dim = 1) == batch_output) / len(batch_output)\n",
    "                epoch_acc += acc.detach().item() * batch_importance\n",
    "            val_loss, val_acc = self.evaluate(val_inputs, val_outputs, print_acc=False)\n",
    "            if n_epoch % 10 ==0 and not silent: \n",
    "                print(\"Epoch %d/%d - Loss: %.3f - Acc: %.3f\" % (n_epoch + 1, self.epoch, epoch_loss, epoch_acc))\n",
    "                print(\"              Val_loss: %.3f - Val_acc: %.3f\" % (val_loss, val_acc))\n",
    "            losses.append(epoch_loss)\n",
    "            accuracies.append(epoch_acc)\n",
    "            val_losses.append(val_loss)\n",
    "            val_accuracies.append(val_acc)\n",
    "            if early_stop:\n",
    "                if val_loss < lowest_val_loss:\n",
    "                    lowest_val_loss = val_loss\n",
    "                    weights = self.model.state_dict()\n",
    "            if tens_logger is not None:\n",
    "                tens_logger.add_scalar(\"losses\", epoch_loss, n_epoch + 1)\n",
    "                tens_logger.add_scalar(\"accuracies\", epoch_acc, n_epoch + 1)\n",
    "                tens_logger.add_scalar(\"val_losses\", val_loss, n_epoch + 1)\n",
    "                tens_logger.add_scalar(\"val_accuracies\", val_acc, n_epoch + 1)\n",
    "        if early_stop:\n",
    "            self.model.load_state_dict(weights)    \n",
    "\n",
    "        return {\"losses\": losses, \"accuracies\": accuracies, \"val_losses\": val_losses, \"val_accuracies\": val_accuracies,\n",
    "               \"model\": self.model}\n",
    "        \n",
    "    def evaluate(self, inputs, outputs, print_acc=True):\n",
    "        \"\"\" evaluate model on provided input and output\n",
    "        inputs: np.array, The shape of input_transform(input) should be (ndata,nfeatures)\n",
    "        outputs: np.array shape (ndata,)\n",
    "        print_acc: bool\n",
    "        \n",
    "        @return\n",
    "        losses: float\n",
    "        acc: float\n",
    "        \"\"\"\n",
    "        tensor_inp = torch.tensor(inputs, dtype = torch.float)\n",
    "        tensor_out = torch.tensor(outputs, dtype = torch.int64)\n",
    "        \n",
    "        preds = self.model(tensor_inp)\n",
    "        losses = nn.CrossEntropyLoss()(preds, tensor_out)\n",
    "        losses = losses.item()\n",
    "        acc = (sum(torch.argmax(preds, axis= 1) == tensor_out) / len(tensor_out)).item()\n",
    "        if print_acc:\n",
    "            print(\"Accuracy: %.3f\" % acc)\n",
    "        return losses, acc"
   ]
  },
  {
   "cell_type": "markdown",
   "id": "8749c76f",
   "metadata": {},
   "source": [
    "The fact that I am getting comparable accuracy with 20 * 128 reduction in number of epochs is insane, time per epoch has increased tho to 5 seconds so takes 5 seconds to run through all the batches in train dataset"
   ]
  },
  {
   "cell_type": "code",
   "execution_count": 17,
   "id": "7beaa497",
   "metadata": {},
   "outputs": [
    {
     "data": {
      "text/plain": [
       "(10000, 1, 32, 32)"
      ]
     },
     "execution_count": 17,
     "metadata": {},
     "output_type": "execute_result"
    }
   ],
   "source": [
    "# Conversion of test dataset to right shape\n",
    "temp = lambda x: x.reshape(x.shape[0], 1 , x.shape[1], x.shape[2])\n",
    "reshaped_test_x = temp(test_X)\n",
    "reshaped_test_x.shape"
   ]
  },
  {
   "cell_type": "code",
   "execution_count": 18,
   "id": "3f2c3446",
   "metadata": {},
   "outputs": [],
   "source": [
    "from torch.utils.tensorboard import SummaryWriter\n",
    "cnn_logger = SummaryWriter(log_dir = 'CNN_MNIST')\n",
    "cnn_logger.flush()"
   ]
  },
  {
   "cell_type": "code",
   "execution_count": 22,
   "id": "e578cdd1",
   "metadata": {},
   "outputs": [],
   "source": [
    "from sklearn.model_selection import train_test_split\n",
    "X_train, X_val, y_train, y_val = train_test_split(train_X, train_y, test_size=0.33, random_state=42)"
   ]
  },
  {
   "cell_type": "code",
   "execution_count": 23,
   "id": "ea67e5e8",
   "metadata": {},
   "outputs": [
    {
     "name": "stdout",
     "output_type": "stream",
     "text": [
      "(40200, 32, 32)\n",
      "(19800, 32, 32)\n",
      "(40200,)\n",
      "(19800,)\n"
     ]
    }
   ],
   "source": [
    "print(X_train.shape)\n",
    "print(X_val.shape)\n",
    "print(y_train.shape)\n",
    "print(y_val.shape)"
   ]
  },
  {
   "cell_type": "markdown",
   "id": "90a59137",
   "metadata": {},
   "source": [
    "## Running Model With Both Batch Normalization & Skip Connection"
   ]
  },
  {
   "cell_type": "code",
   "execution_count": 27,
   "id": "4801f38a",
   "metadata": {},
   "outputs": [
    {
     "name": "stderr",
     "output_type": "stream",
     "text": [
      "  3%|█▍                                          | 1/30 [00:12<05:48, 12.03s/it]"
     ]
    },
    {
     "name": "stdout",
     "output_type": "stream",
     "text": [
      "Epoch 1/30 - Loss: 0.278 - Acc: 0.922\n",
      "              Val_loss: 0.105 - Val_acc: 0.970\n"
     ]
    },
    {
     "name": "stderr",
     "output_type": "stream",
     "text": [
      " 37%|███████████████▊                           | 11/30 [02:14<03:53, 12.30s/it]"
     ]
    },
    {
     "name": "stdout",
     "output_type": "stream",
     "text": [
      "Epoch 11/30 - Loss: 0.020 - Acc: 0.995\n",
      "              Val_loss: 0.039 - Val_acc: 0.988\n"
     ]
    },
    {
     "name": "stderr",
     "output_type": "stream",
     "text": [
      " 70%|██████████████████████████████             | 21/30 [04:18<01:52, 12.46s/it]"
     ]
    },
    {
     "name": "stdout",
     "output_type": "stream",
     "text": [
      "Epoch 21/30 - Loss: 0.009 - Acc: 0.999\n",
      "              Val_loss: 0.043 - Val_acc: 0.990\n"
     ]
    },
    {
     "name": "stderr",
     "output_type": "stream",
     "text": [
      "                                                                                \r"
     ]
    },
    {
     "name": "stdout",
     "output_type": "stream",
     "text": [
      "func:'train'  took: 371.2909 sec\n",
      "Test Accuracy: 0.9909999966621399\n"
     ]
    }
   ],
   "source": [
    "cnn = CNN()\n",
    "mlp_trainer = Trainer(cnn, 'adam', 1e-3, 30, 128)\n",
    "train_val_dict = mlp_trainer.train(X_train, y_train, X_val,y_val, early_stop= True, l2= True, tens_logger= cnn_logger)\n",
    "test_acc = mlp_trainer.evaluate(reshaped_test_x, test_y, print_acc= False)[1]\n",
    "print(\"Test Accuracy:\", test_acc)"
   ]
  },
  {
   "cell_type": "markdown",
   "id": "3af6c054",
   "metadata": {},
   "source": [
    "## Running Model Without Batch Normalization But Have Skip Connection"
   ]
  },
  {
   "cell_type": "code",
   "execution_count": 28,
   "id": "93941133",
   "metadata": {},
   "outputs": [],
   "source": [
    "class CNN(nn.Module):\n",
    "    def __init__(self):\n",
    "        super(CNN, self).__init__()\n",
    "        self.conv = nn.ModuleList([nn.Conv2d(in_channels= 1, out_channels= 6,kernel_size = 5, stride = 1, padding= 0),\n",
    "                                   nn.Conv2d(in_channels= 6, out_channels= 12,kernel_size = 5, stride = 1, padding= 0)])\n",
    "        self.fc = nn.ModuleList([nn.Linear(300, 300), nn.Linear(300, 10) ])\n",
    "        #self.bn = [nn.BatchNorm2d(6),nn.BatchNorm2d(12)]\n",
    "        self.pooling = nn.MaxPool2d(kernel_size = 2)\n",
    "        self.activation = nn.ReLU()\n",
    "        \n",
    "    def forward(self, x):\n",
    "        for i in range(2):\n",
    "            x = self.pooling(self.activation((self.conv[i](x))))\n",
    "        x = nn.Flatten() (x)\n",
    "        res2 = x\n",
    "        y = self.activation(self.fc[0] (x))\n",
    "        y = y + res2\n",
    "        y = self.fc[1](y)\n",
    "        return y  "
   ]
  },
  {
   "cell_type": "code",
   "execution_count": 29,
   "id": "238a9fb7",
   "metadata": {},
   "outputs": [
    {
     "name": "stdout",
     "output_type": "stream",
     "text": [
      "==========================================================================================\n",
      "Layer (type:depth-idx)                   Output Shape              Param #\n",
      "==========================================================================================\n",
      "├─ModuleList: 1                          []                        --\n",
      "|    └─Conv2d: 2-1                       [-1, 6, 28, 28]           156\n",
      "├─ReLU: 1-1                              [-1, 6, 28, 28]           --\n",
      "├─MaxPool2d: 1-2                         [-1, 6, 14, 14]           --\n",
      "├─ModuleList: 1                          []                        --\n",
      "|    └─Conv2d: 2-2                       [-1, 12, 10, 10]          1,812\n",
      "├─ReLU: 1-3                              [-1, 12, 10, 10]          --\n",
      "├─MaxPool2d: 1-4                         [-1, 12, 5, 5]            --\n",
      "├─ModuleList: 1                          []                        --\n",
      "|    └─Linear: 2-3                       [-1, 300]                 90,300\n",
      "├─ReLU: 1-5                              [-1, 300]                 --\n",
      "├─ModuleList: 1                          []                        --\n",
      "|    └─Linear: 2-4                       [-1, 10]                  3,010\n",
      "==========================================================================================\n",
      "Total params: 95,278\n",
      "Trainable params: 95,278\n",
      "Non-trainable params: 0\n",
      "Total mult-adds (M): 0.39\n",
      "==========================================================================================\n",
      "Input size (MB): 0.00\n",
      "Forward/backward pass size (MB): 0.05\n",
      "Params size (MB): 0.36\n",
      "Estimated Total Size (MB): 0.41\n",
      "==========================================================================================\n"
     ]
    }
   ],
   "source": [
    "model = CNN()\n",
    "# Input is the (number of channels, image height, image width) if input is 2d, essentially the 2 dimensions of it\n",
    "s = summary(model, (1,32,32))"
   ]
  },
  {
   "cell_type": "code",
   "execution_count": 30,
   "id": "bcdca105",
   "metadata": {},
   "outputs": [
    {
     "name": "stderr",
     "output_type": "stream",
     "text": [
      "  3%|█▍                                          | 1/30 [00:10<05:17, 10.94s/it]"
     ]
    },
    {
     "name": "stdout",
     "output_type": "stream",
     "text": [
      "Epoch 1/30 - Loss: 1.372 - Acc: 0.848\n",
      "              Val_loss: 0.174 - Val_acc: 0.953\n"
     ]
    },
    {
     "name": "stderr",
     "output_type": "stream",
     "text": [
      " 37%|███████████████▊                           | 11/30 [02:04<03:36, 11.40s/it]"
     ]
    },
    {
     "name": "stdout",
     "output_type": "stream",
     "text": [
      "Epoch 11/30 - Loss: 0.026 - Acc: 0.992\n",
      "              Val_loss: 0.102 - Val_acc: 0.977\n"
     ]
    },
    {
     "name": "stderr",
     "output_type": "stream",
     "text": [
      " 70%|██████████████████████████████             | 21/30 [03:57<01:41, 11.30s/it]"
     ]
    },
    {
     "name": "stdout",
     "output_type": "stream",
     "text": [
      "Epoch 21/30 - Loss: 0.018 - Acc: 0.995\n",
      "              Val_loss: 0.105 - Val_acc: 0.981\n"
     ]
    },
    {
     "name": "stderr",
     "output_type": "stream",
     "text": [
      "                                                                                \r"
     ]
    },
    {
     "name": "stdout",
     "output_type": "stream",
     "text": [
      "func:'train'  took: 338.3172 sec\n",
      "Test Accuracy: 0.9855999946594238\n"
     ]
    }
   ],
   "source": [
    "cnn = CNN()\n",
    "mlp_trainer = Trainer(cnn, 'adam', 1e-3, 30, 128)\n",
    "train_val_dict = mlp_trainer.train(X_train, y_train, X_val,y_val, early_stop= True, l2= True, tens_logger= cnn_logger)\n",
    "test_acc = mlp_trainer.evaluate(reshaped_test_x, test_y, print_acc= False)[1]\n",
    "print(\"Test Accuracy:\", test_acc)"
   ]
  },
  {
   "cell_type": "markdown",
   "id": "ef14eddc",
   "metadata": {},
   "source": [
    "### Getting better test accuracy when running the model with Batch Normalization"
   ]
  },
  {
   "cell_type": "markdown",
   "id": "334ab51f",
   "metadata": {},
   "source": [
    "## Q1B: Running Model with Batch Norm but NO skip connection at 10 epochs & LR of 5e-3"
   ]
  },
  {
   "cell_type": "code",
   "execution_count": 31,
   "id": "97f4faa1",
   "metadata": {},
   "outputs": [],
   "source": [
    "class CNN(nn.Module):\n",
    "    def __init__(self):\n",
    "        super(CNN, self).__init__()\n",
    "        self.conv = nn.ModuleList([nn.Conv2d(in_channels= 1, out_channels= 6,kernel_size = 5, stride = 1, padding= 0),\n",
    "                                   nn.Conv2d(in_channels= 6, out_channels= 12,kernel_size = 5, stride = 1, padding= 0)])\n",
    "        self.fc = nn.ModuleList([nn.Linear(300, 300), nn.Linear(300, 10) ])\n",
    "        self.bn = [nn.BatchNorm2d(6),nn.BatchNorm2d(12)]\n",
    "        self.pooling = nn.MaxPool2d(kernel_size = 2)\n",
    "        self.activation = nn.ReLU()\n",
    "        \n",
    "    def forward(self, x):\n",
    "        for i in range(2):\n",
    "            x = self.pooling(self.activation(self.bn[i](self.conv[i](x))))\n",
    "        x = nn.Flatten() (x)\n",
    "        x = self.activation(self.fc[0] (x))\n",
    "        x = self.fc[1](x)\n",
    "        return x  "
   ]
  },
  {
   "cell_type": "code",
   "execution_count": 32,
   "id": "f165eb51",
   "metadata": {},
   "outputs": [
    {
     "name": "stdout",
     "output_type": "stream",
     "text": [
      "==========================================================================================\n",
      "Layer (type:depth-idx)                   Output Shape              Param #\n",
      "==========================================================================================\n",
      "├─ModuleList: 1                          []                        --\n",
      "|    └─Conv2d: 2-1                       [-1, 6, 28, 28]           156\n",
      "├─ReLU: 1-1                              [-1, 6, 28, 28]           --\n",
      "├─MaxPool2d: 1-2                         [-1, 6, 14, 14]           --\n",
      "├─ModuleList: 1                          []                        --\n",
      "|    └─Conv2d: 2-2                       [-1, 12, 10, 10]          1,812\n",
      "├─ReLU: 1-3                              [-1, 12, 10, 10]          --\n",
      "├─MaxPool2d: 1-4                         [-1, 12, 5, 5]            --\n",
      "├─ModuleList: 1                          []                        --\n",
      "|    └─Linear: 2-3                       [-1, 300]                 90,300\n",
      "├─ReLU: 1-5                              [-1, 300]                 --\n",
      "├─ModuleList: 1                          []                        --\n",
      "|    └─Linear: 2-4                       [-1, 10]                  3,010\n",
      "==========================================================================================\n",
      "Total params: 95,278\n",
      "Trainable params: 95,278\n",
      "Non-trainable params: 0\n",
      "Total mult-adds (M): 0.39\n",
      "==========================================================================================\n",
      "Input size (MB): 0.00\n",
      "Forward/backward pass size (MB): 0.05\n",
      "Params size (MB): 0.36\n",
      "Estimated Total Size (MB): 0.41\n",
      "==========================================================================================\n"
     ]
    }
   ],
   "source": [
    "model = CNN()\n",
    "# Input is the (number of channels, image height, image width) if input is 2d, essentially the 2 dimensions of it\n",
    "s = summary(model, (1,32,32))"
   ]
  },
  {
   "cell_type": "code",
   "execution_count": 33,
   "id": "00fcdecb",
   "metadata": {},
   "outputs": [
    {
     "name": "stderr",
     "output_type": "stream",
     "text": [
      " 10%|████▍                                       | 1/10 [00:12<01:51, 12.42s/it]"
     ]
    },
    {
     "name": "stdout",
     "output_type": "stream",
     "text": [
      "Epoch 1/10 - Loss: 0.179 - Acc: 0.945\n",
      "              Val_loss: 0.091 - Val_acc: 0.971\n"
     ]
    },
    {
     "name": "stderr",
     "output_type": "stream",
     "text": [
      "                                                                                \r"
     ]
    },
    {
     "name": "stdout",
     "output_type": "stream",
     "text": [
      "func:'train'  took: 130.5418 sec\n",
      "Test Accuracy: 0.9864000082015991\n"
     ]
    }
   ],
   "source": [
    "cnn = CNN()\n",
    "mlp_trainer = Trainer(cnn, 'adam', 5e-3, 10, 128)\n",
    "train_val_dict = mlp_trainer.train(X_train, y_train, X_val,y_val, early_stop= True, l2= True, tens_logger= cnn_logger)\n",
    "test_acc = mlp_trainer.evaluate(reshaped_test_x, test_y, print_acc= False)[1]\n",
    "print(\"Test Accuracy:\", test_acc)"
   ]
  },
  {
   "cell_type": "markdown",
   "id": "d804f799",
   "metadata": {},
   "source": [
    "## Running the Model with Both Skip Connection & Batch Norm at 10 epochs and LR of 5e-3"
   ]
  },
  {
   "cell_type": "code",
   "execution_count": 34,
   "id": "d426b0ba",
   "metadata": {},
   "outputs": [],
   "source": [
    "class CNN(nn.Module):\n",
    "    def __init__(self):\n",
    "        super(CNN, self).__init__()\n",
    "        self.conv = nn.ModuleList([nn.Conv2d(in_channels= 1, out_channels= 6,kernel_size = 5, stride = 1, padding= 0),\n",
    "                                   nn.Conv2d(in_channels= 6, out_channels= 12,kernel_size = 5, stride = 1, padding= 0)])\n",
    "        self.fc = nn.ModuleList([nn.Linear(300, 300), nn.Linear(300, 10) ])\n",
    "        self.bn = [nn.BatchNorm2d(6),nn.BatchNorm2d(12)]\n",
    "        self.pooling = nn.MaxPool2d(kernel_size = 2)\n",
    "        self.activation = nn.ReLU()\n",
    "        \n",
    "    def forward(self, x):\n",
    "        for i in range(2):\n",
    "            x = self.pooling(self.activation(self.bn[i](self.conv[i](x))))\n",
    "        x = nn.Flatten() (x)\n",
    "        res2 = x\n",
    "        y = self.activation(self.fc[0] (x))\n",
    "        y = y + res2\n",
    "        y = self.fc[1](y)\n",
    "        return y  "
   ]
  },
  {
   "cell_type": "code",
   "execution_count": 35,
   "id": "1aa05b36",
   "metadata": {},
   "outputs": [
    {
     "name": "stdout",
     "output_type": "stream",
     "text": [
      "==========================================================================================\n",
      "Layer (type:depth-idx)                   Output Shape              Param #\n",
      "==========================================================================================\n",
      "├─ModuleList: 1                          []                        --\n",
      "|    └─Conv2d: 2-1                       [-1, 6, 28, 28]           156\n",
      "├─ReLU: 1-1                              [-1, 6, 28, 28]           --\n",
      "├─MaxPool2d: 1-2                         [-1, 6, 14, 14]           --\n",
      "├─ModuleList: 1                          []                        --\n",
      "|    └─Conv2d: 2-2                       [-1, 12, 10, 10]          1,812\n",
      "├─ReLU: 1-3                              [-1, 12, 10, 10]          --\n",
      "├─MaxPool2d: 1-4                         [-1, 12, 5, 5]            --\n",
      "├─ModuleList: 1                          []                        --\n",
      "|    └─Linear: 2-3                       [-1, 300]                 90,300\n",
      "├─ReLU: 1-5                              [-1, 300]                 --\n",
      "├─ModuleList: 1                          []                        --\n",
      "|    └─Linear: 2-4                       [-1, 10]                  3,010\n",
      "==========================================================================================\n",
      "Total params: 95,278\n",
      "Trainable params: 95,278\n",
      "Non-trainable params: 0\n",
      "Total mult-adds (M): 0.39\n",
      "==========================================================================================\n",
      "Input size (MB): 0.00\n",
      "Forward/backward pass size (MB): 0.05\n",
      "Params size (MB): 0.36\n",
      "Estimated Total Size (MB): 0.41\n",
      "==========================================================================================\n"
     ]
    }
   ],
   "source": [
    "model = CNN()\n",
    "# Input is the (number of channels, image height, image width) if input is 2d, essentially the 2 dimensions of it\n",
    "s = summary(model, (1,32,32))"
   ]
  },
  {
   "cell_type": "code",
   "execution_count": 36,
   "id": "5548d77f",
   "metadata": {},
   "outputs": [
    {
     "name": "stderr",
     "output_type": "stream",
     "text": [
      " 10%|████▍                                       | 1/10 [00:12<01:52, 12.54s/it]"
     ]
    },
    {
     "name": "stdout",
     "output_type": "stream",
     "text": [
      "Epoch 1/10 - Loss: 0.183 - Acc: 0.946\n",
      "              Val_loss: 0.062 - Val_acc: 0.980\n"
     ]
    },
    {
     "name": "stderr",
     "output_type": "stream",
     "text": [
      "                                                                                \r"
     ]
    },
    {
     "name": "stdout",
     "output_type": "stream",
     "text": [
      "func:'train'  took: 130.5511 sec\n",
      "Test Accuracy: 0.9879999756813049\n"
     ]
    }
   ],
   "source": [
    "cnn = CNN()\n",
    "mlp_trainer = Trainer(cnn, 'adam', 5e-3, 10, 128)\n",
    "train_val_dict = mlp_trainer.train(X_train, y_train, X_val,y_val, early_stop= True, l2= True, tens_logger= cnn_logger)\n",
    "test_acc = mlp_trainer.evaluate(reshaped_test_x, test_y, print_acc= False)[1]\n",
    "print(\"Test Accuracy:\", test_acc)"
   ]
  },
  {
   "cell_type": "markdown",
   "id": "81148236",
   "metadata": {},
   "source": [
    "### Getting slightly better test accuracy with the skip connection, and around the same training time for both versions of this model (without and with skip connection for 10 epochs and LR of 5e-3)"
   ]
  }
 ],
 "metadata": {
  "kernelspec": {
   "display_name": "ml_life",
   "language": "python",
   "name": "ml_life"
  },
  "language_info": {
   "codemirror_mode": {
    "name": "ipython",
    "version": 3
   },
   "file_extension": ".py",
   "mimetype": "text/x-python",
   "name": "python",
   "nbconvert_exporter": "python",
   "pygments_lexer": "ipython3",
   "version": "3.8.16"
  }
 },
 "nbformat": 4,
 "nbformat_minor": 5
}
