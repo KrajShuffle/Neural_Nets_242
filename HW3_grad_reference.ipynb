{
 "cells": [
  {
   "cell_type": "markdown",
   "metadata": {},
   "source": [
    "### Debugging Outputs"
   ]
  },
  {
   "cell_type": "markdown",
   "metadata": {},
   "source": [
    "1.<br>\n",
    "(a) length of schedule: 5940 for 30K, 5980 for 10K. The function evaluation of your solution usually falls in the range of 3000-5000<br>\n",
    "\n",
    "2.<br>\n",
    "(c) Your cost function should be a number between 2200-2400 <br>\n",
    "(d) Final tempreture: 3.36K <br>\n",
    "(e) You should be able to assign rank/cultivar of a wine according to centers. Using the centers you found in (b) to reassign ranks, then the cost function value would be 2160.17"
   ]
  },
  {
   "cell_type": "code",
   "execution_count": 1,
   "metadata": {},
   "outputs": [],
   "source": [
    "import numpy as np\n",
    "import pandas as pd\n",
    "import matplotlib.pyplot as plt"
   ]
  },
  {
   "cell_type": "markdown",
   "metadata": {},
   "source": [
    "### Visualize a 2d function"
   ]
  },
  {
   "cell_type": "code",
   "execution_count": 2,
   "metadata": {},
   "outputs": [],
   "source": [
    "def plot_surface(func,x_min=-2,x_max=2,y_min=-2,y_max=2):\n",
    "    a=np.linspace(x_min,x_max,100)\n",
    "    b=np.linspace(y_min,y_max,100)\n",
    "    x,y=np.meshgrid(a,b)\n",
    "    z=func((x,y))\n",
    "    fig=plt.figure()\n",
    "    ax = fig.gca(projection='3d')\n",
    "    ax.plot_surface(x,y,z)"
   ]
  },
  {
   "cell_type": "markdown",
   "metadata": {},
   "source": [
    "### Simulated annealing code Q1"
   ]
  },
  {
   "cell_type": "markdown",
   "metadata": {},
   "source": [
    "Summation from 1 to 10\n",
    "$𝑓(𝑥 ,𝑥 ...𝑥 )=(418.9829 * 10)−∑𝑥 *(sin(√𝑥))$"
   ]
  },
  {
   "cell_type": "code",
   "execution_count": 3,
   "metadata": {},
   "outputs": [
    {
     "data": {
      "text/plain": [
       "4227.025783417527"
      ]
     },
     "execution_count": 3,
     "metadata": {},
     "output_type": "execute_result"
    }
   ],
   "source": [
    "def schwefel(pt_arr):\n",
    "    return ((418.9829 * 10) - sum(pt_arr[:] * np.sin(np.sqrt(np.abs(pt_arr[:])))))\n",
    "schwefel(np.array([20,40,20]))"
   ]
  },
  {
   "cell_type": "code",
   "execution_count": 4,
   "metadata": {},
   "outputs": [],
   "source": [
    "# Metropolis func\n",
    "def metro_accept(temps,new_eval, cur_eval):\n",
    "    boltz =  1 / (temps)\n",
    "    return (np.random.random_sample() <= np.exp(-1 * boltz * (new_eval - cur_eval)))"
   ]
  },
  {
   "cell_type": "code",
   "execution_count": 5,
   "metadata": {},
   "outputs": [],
   "source": [
    "def SA(solution,evaluation,delta,boundary,cooling_schedule):\n",
    "    \"\"\" Simulated Annealing for minimization\n",
    "    solution: np.array. Initial guess of solution\n",
    "    evaluation: func. Function to evaluate solution\n",
    "    delta: float. Magnitude of random displacement\n",
    "    boundary: array of int/float. [lowerbound,upperbound]\n",
    "    cooling_schedule: np.array. An array of temperatures for simulated annealing\n",
    "    \"\"\"\n",
    "    best_solution = solution.copy() \n",
    "    lowest_eval = evaluation(best_solution)\n",
    "    for idx,temp in enumerate(cooling_schedule):\n",
    "        if idx%500 == 0:\n",
    "            print(\"%d/%d   temp:%f\"%(idx,len(cooling_schedule),temp))\n",
    "        for n in range(len(solution)):\n",
    "            trial = solution.copy()\n",
    "            trial[n] += delta*(2*np.random.random()-1)\n",
    "            if trial[n] >= boundary[0] and trial[n] <= boundary[1]:\n",
    "                #fill in acceptance criterion\n",
    "                if (metro_accept(temp,evaluation(trial), evaluation(solution))):\n",
    "                    solution = trial\n",
    "                    if evaluation(solution) < lowest_eval:\n",
    "                        #update solution here\n",
    "                        best_solution = solution\n",
    "                        lowest_eval = evaluation(solution)\n",
    "    return {\"solution\":best_solution, \"evaluation\":lowest_eval}"
   ]
  },
  {
   "cell_type": "code",
   "execution_count": 6,
   "metadata": {},
   "outputs": [],
   "source": [
    "bounds = np.array([-500, 500])\n",
    "sols = np.zeros(10)\n",
    "cool_sched30 = np.linspace(3000, 30, 5940)\n",
    "cool_sched10 = np.linspace(3000,10, 5980)"
   ]
  },
  {
   "cell_type": "code",
   "execution_count": 7,
   "metadata": {},
   "outputs": [
    {
     "name": "stdout",
     "output_type": "stream",
     "text": [
      "initial point: [0. 0. 0. 0. 0. 0. 0. 0. 0. 0.]\n",
      "0/5980   temp:3000.000000\n",
      "500/5980   temp:2749.958187\n",
      "1000/5980   temp:2499.916374\n",
      "1500/5980   temp:2249.874561\n",
      "2000/5980   temp:1999.832748\n",
      "2500/5980   temp:1749.790935\n",
      "3000/5980   temp:1499.749122\n",
      "3500/5980   temp:1249.707309\n",
      "4000/5980   temp:999.665496\n",
      "4500/5980   temp:749.623683\n",
      "5000/5980   temp:499.581870\n",
      "5500/5980   temp:249.540057\n"
     ]
    },
    {
     "data": {
      "text/plain": [
       "{'solution': array([-16.73388164,  48.04183982, -14.60919018,   3.7851917 ,\n",
       "          2.77684075, -11.76433659,   0.4707524 , -22.21454719,\n",
       "         -5.81164549,  -6.18329104]),\n",
       " 'evaluation': 4113.535087122041}"
      ]
     },
     "execution_count": 7,
     "metadata": {},
     "output_type": "execute_result"
    }
   ],
   "source": [
    "print(\"initial point: \" + str(sols))\n",
    "SA(sols, schwefel, 0.5, bounds, cool_sched10)"
   ]
  },
  {
   "cell_type": "markdown",
   "metadata": {},
   "source": [
    "Linear cooling with end temp of 10 Kelvin results in final function evaluations of 4080, 4099, and 4132 and an average function evaluation of 4104. Linear cooling with end temp of 30 Kelvin results in final function evaluations of 4123, 4116, 4104 and an average function evaluation of 4114. Clearly, linear cooling with the lower end temp of 10 Kelvin resulted in a lower average final function evaluation (4104 < 4114) so I do find better solutions when cooling to the lower temperature.  "
   ]
  },
  {
   "cell_type": "markdown",
   "metadata": {},
   "source": [
    "## 1b:"
   ]
  },
  {
   "cell_type": "code",
   "execution_count": 8,
   "metadata": {},
   "outputs": [
    {
     "data": {
      "text/plain": [
       "326.10415680714726"
      ]
     },
     "execution_count": 8,
     "metadata": {},
     "output_type": "execute_result"
    }
   ],
   "source": [
    "def log_cool(init_TSA):\n",
    "    TSA_temps = []\n",
    "    k = 0\n",
    "    sig = 1000\n",
    "    while k < 6001:\n",
    "        TSA = init_TSA / (1 + ((init_TSA * np.log(1+k)) / (3 * sig)))\n",
    "        k +=1\n",
    "        TSA_temps.append(TSA)\n",
    "    return np.array(TSA_temps)\n",
    "atemp = log_cool(6000)[:-1]\n",
    "atemp[-1] "
   ]
  },
  {
   "cell_type": "code",
   "execution_count": 9,
   "metadata": {},
   "outputs": [
    {
     "name": "stdout",
     "output_type": "stream",
     "text": [
      "initial point: [0. 0. 0. 0. 0. 0. 0. 0. 0. 0.]\n",
      "0/6000   temp:6000.000000\n",
      "500/6000   temp:446.654152\n",
      "1000/6000   temp:404.926346\n",
      "1500/6000   temp:383.931847\n",
      "2000/6000   temp:370.306260\n",
      "2500/6000   temp:360.384346\n",
      "3000/6000   temp:352.663160\n",
      "3500/6000   temp:346.388168\n",
      "4000/6000   temp:341.130065\n",
      "4500/6000   temp:336.622703\n",
      "5000/6000   temp:332.690384\n",
      "5500/6000   temp:329.211417\n"
     ]
    },
    {
     "data": {
      "text/plain": [
       "{'solution': array([-18.64681894, -20.58933935, -18.00668499, -22.62494205,\n",
       "         10.49872312,   1.3339844 , -25.74080733, -28.76201993,\n",
       "        -16.84036832,  12.35244367]),\n",
       " 'evaluation': 4057.203737591527}"
      ]
     },
     "execution_count": 9,
     "metadata": {},
     "output_type": "execute_result"
    }
   ],
   "source": [
    "# run with same initial condition 3 times\n",
    "print(\"initial point: \" + str(sols))\n",
    "SA(sols, schwefel, 0.5, bounds, atemp)"
   ]
  },
  {
   "cell_type": "markdown",
   "metadata": {},
   "source": [
    "Logarithmic cooling with start temp of 3000K resulted in final function evaluations of 4050, 4136, and 4137, so it has an average function evaluation of 4107. Logarithmic cooling with start temp of 6000K resulted in final function evaluations of 4114, 4159, and 4125, so it has an average function evaluation of 4133. Thus, logarithmic cooling with a smaller start temp appears to be performing better even though both have the same number of steps. Logarithmic cooling with the start temp of 6000K is worse compared to linear cooling with start temps of either 3000K and 6000K evident from logarithmic cooling with the start temp of 6000K having the largest average function evaluation out of all of these options. Logarithmic cooling with the start temp of 3000K performed better than linear cooling with start temp of 6000K, but lost barely to linear cooling with start temp of 3000K since it had a slightly larger average function evaluation. "
   ]
  },
  {
   "cell_type": "markdown",
   "metadata": {},
   "source": [
    "## 1c: Unique Annealing "
   ]
  },
  {
   "cell_type": "code",
   "execution_count": 10,
   "metadata": {},
   "outputs": [
    {
     "data": {
      "text/plain": [
       "array([1.23096375, 1.2293635 , 1.22776532, 1.22616923])"
      ]
     },
     "execution_count": 10,
     "metadata": {},
     "output_type": "execute_result"
    }
   ],
   "source": [
    "def my_cool(init_TSA, alpha):\n",
    "    TSA_temps = []\n",
    "    k = 0\n",
    "    while k < 6001:\n",
    "        TSA = init_TSA * (alpha)**k \n",
    "        k +=1\n",
    "        TSA_temps.append(TSA)\n",
    "    return np.array(TSA_temps)\n",
    "atemp = my_cool(3000, 0.9987)[:-1]\n",
    "atemp[-5:-1] "
   ]
  },
  {
   "cell_type": "code",
   "execution_count": 11,
   "metadata": {},
   "outputs": [
    {
     "name": "stdout",
     "output_type": "stream",
     "text": [
      "initial point: [0. 0. 0. 0. 0. 0. 0. 0. 0. 0.]\n",
      "0/6000   temp:3000.000000\n",
      "500/6000   temp:1565.475203\n",
      "1000/6000   temp:816.904204\n",
      "1500/6000   temp:426.281092\n",
      "2000/6000   temp:222.444159\n",
      "2500/6000   temp:116.076939\n",
      "3000/6000   temp:60.571856\n",
      "3500/6000   temp:31.607913\n",
      "4000/6000   temp:16.493801\n",
      "4500/6000   temp:8.606879\n",
      "5000/6000   temp:4.491285\n",
      "5500/6000   temp:2.343665\n"
     ]
    },
    {
     "data": {
      "text/plain": [
       "{'solution': array([  4.72996614,   7.0170701 , -26.37967774,   5.50016291,\n",
       "        -24.89777163, -27.15769714,   6.82558451, -29.78463429,\n",
       "        -23.69587672,   5.1434009 ]),\n",
       " 'evaluation': 4054.1560053713765}"
      ]
     },
     "execution_count": 11,
     "metadata": {},
     "output_type": "execute_result"
    }
   ],
   "source": [
    "print(\"initial point: \" + str(sols))\n",
    "SA(sols, schwefel, 0.5, bounds, atemp)"
   ]
  },
  {
   "cell_type": "markdown",
   "metadata": {},
   "source": [
    "I made my own cooling schedule starting with 3000K, 6000 steps, and ends at 1.23K. The new temps are determined via geometric cooling schedule with the multiplier being 0.9987. This schedule produced final function evaluations of 4015, 4057, and 4011, so it had an average function evaluation of 4028. This final average function evaluation was better than final average function evaluation produced by the cooling schedules used in 1a and 1b, so I was able to find a better solution. "
   ]
  },
  {
   "cell_type": "code",
   "execution_count": 12,
   "metadata": {},
   "outputs": [],
   "source": [
    "ex_sols = np.array([-25.23234948,   7.5678464 , -22.53009957,   6.80814302,\n",
    "        -25.40759713,   1.93960011, -24.05591988, -27.7639376 ,\n",
    "          5.53715501,   4.23131456])"
   ]
  },
  {
   "cell_type": "code",
   "execution_count": 13,
   "metadata": {},
   "outputs": [
    {
     "data": {
      "text/plain": [
       "{'x': array([-24.84492851,   0.79635536, -22.73246682,   0.20246348,\n",
       "        -24.98192692,  -3.60347998, -23.92526432, -26.82397674,\n",
       "         -0.79112097,  -1.81195102]),\n",
       " 'y': 4076.8193753917394}"
      ]
     },
     "execution_count": 13,
     "metadata": {},
     "output_type": "execute_result"
    }
   ],
   "source": [
    "# Code from Tutorial #1\n",
    "def golden_section(func, start, end, reference, tol):\n",
    "    if (end - start).sum() < (tol * 10):\n",
    "        return {'x':reference, 'y':func(reference)}\n",
    "    else:\n",
    "        if np.abs(reference - start).sum() < np.abs(end - reference).sum():\n",
    "            new_reference = end - (end - reference)*0.618\n",
    "            if func(new_reference) > func(reference):\n",
    "                return golden_section(func, start, new_reference, reference, tol)\n",
    "            else:\n",
    "                return golden_section(func, reference, end, new_reference, tol)\n",
    "        else:\n",
    "            new_reference = start + (reference-start)* 0.618\n",
    "            if func(new_reference) > func(reference):\n",
    "                return golden_section(func, new_reference, end, reference, tol)\n",
    "            else:\n",
    "                return golden_section(func, start, reference, new_reference, tol)\n",
    "            \n",
    "golden_section(schwefel,ex_sols - 10, sols + 10, np.ones(10) * (20 *0.618), 1e-5)"
   ]
  },
  {
   "cell_type": "markdown",
   "metadata": {},
   "source": [
    "One of my classical simulated annealing results was a solution: [-25.23234948,   7.5678464 , -22.53009957,   6.80814302, -25.40759713,   1.93960011, -24.05591988, -27.7639376 ,\n",
    "5.53715501,   4.23131456] and had a final function evaluation of 4056. I tried golden section with an x-value search range with (my solution - 10 (substraction from each component)) as the start point and an end point of a vector with components of the solution + 10. I consistently ended up with a final function evaluation of 4076, which is the larger than the result outputted from CSA, so I could not find an even better solution via golden section on the CSA solution. "
   ]
  },
  {
   "cell_type": "markdown",
   "metadata": {},
   "source": [
    "## 2a:"
   ]
  },
  {
   "cell_type": "code",
   "execution_count": 14,
   "metadata": {},
   "outputs": [
    {
     "data": {
      "text/html": [
       "<div>\n",
       "<style scoped>\n",
       "    .dataframe tbody tr th:only-of-type {\n",
       "        vertical-align: middle;\n",
       "    }\n",
       "\n",
       "    .dataframe tbody tr th {\n",
       "        vertical-align: top;\n",
       "    }\n",
       "\n",
       "    .dataframe thead th {\n",
       "        text-align: right;\n",
       "    }\n",
       "</style>\n",
       "<table border=\"1\" class=\"dataframe\">\n",
       "  <thead>\n",
       "    <tr style=\"text-align: right;\">\n",
       "      <th></th>\n",
       "      <th>Alcohol %</th>\n",
       "      <th>Malic Acid</th>\n",
       "      <th>Ash</th>\n",
       "      <th>Alkalinity</th>\n",
       "      <th>Mg</th>\n",
       "      <th>Phenols</th>\n",
       "      <th>Flavanoids</th>\n",
       "      <th>Phenols.1</th>\n",
       "      <th>Proantho-cyanins</th>\n",
       "      <th>Color intensity</th>\n",
       "      <th>Hue</th>\n",
       "      <th>OD280 315</th>\n",
       "      <th>Proline</th>\n",
       "      <th>Start assignment</th>\n",
       "      <th>ranking</th>\n",
       "    </tr>\n",
       "  </thead>\n",
       "  <tbody>\n",
       "    <tr>\n",
       "      <th>0</th>\n",
       "      <td>14.23</td>\n",
       "      <td>1.71</td>\n",
       "      <td>2.43</td>\n",
       "      <td>15.6</td>\n",
       "      <td>127</td>\n",
       "      <td>2.8</td>\n",
       "      <td>3.06</td>\n",
       "      <td>0.28</td>\n",
       "      <td>2.29</td>\n",
       "      <td>5.64</td>\n",
       "      <td>1.04</td>\n",
       "      <td>3.92</td>\n",
       "      <td>1065</td>\n",
       "      <td>1</td>\n",
       "      <td>1</td>\n",
       "    </tr>\n",
       "    <tr>\n",
       "      <th>1</th>\n",
       "      <td>13.24</td>\n",
       "      <td>2.59</td>\n",
       "      <td>2.87</td>\n",
       "      <td>21.0</td>\n",
       "      <td>118</td>\n",
       "      <td>2.8</td>\n",
       "      <td>2.69</td>\n",
       "      <td>0.39</td>\n",
       "      <td>1.82</td>\n",
       "      <td>4.32</td>\n",
       "      <td>1.04</td>\n",
       "      <td>2.93</td>\n",
       "      <td>735</td>\n",
       "      <td>1</td>\n",
       "      <td>1</td>\n",
       "    </tr>\n",
       "    <tr>\n",
       "      <th>2</th>\n",
       "      <td>14.83</td>\n",
       "      <td>1.64</td>\n",
       "      <td>2.17</td>\n",
       "      <td>14.0</td>\n",
       "      <td>97</td>\n",
       "      <td>2.8</td>\n",
       "      <td>2.98</td>\n",
       "      <td>0.29</td>\n",
       "      <td>1.98</td>\n",
       "      <td>5.20</td>\n",
       "      <td>1.08</td>\n",
       "      <td>2.85</td>\n",
       "      <td>1045</td>\n",
       "      <td>1</td>\n",
       "      <td>1</td>\n",
       "    </tr>\n",
       "    <tr>\n",
       "      <th>3</th>\n",
       "      <td>14.12</td>\n",
       "      <td>1.48</td>\n",
       "      <td>2.32</td>\n",
       "      <td>16.8</td>\n",
       "      <td>95</td>\n",
       "      <td>2.2</td>\n",
       "      <td>2.43</td>\n",
       "      <td>0.26</td>\n",
       "      <td>1.57</td>\n",
       "      <td>5.00</td>\n",
       "      <td>1.17</td>\n",
       "      <td>2.82</td>\n",
       "      <td>1280</td>\n",
       "      <td>1</td>\n",
       "      <td>1</td>\n",
       "    </tr>\n",
       "    <tr>\n",
       "      <th>4</th>\n",
       "      <td>13.75</td>\n",
       "      <td>1.73</td>\n",
       "      <td>2.41</td>\n",
       "      <td>16.0</td>\n",
       "      <td>89</td>\n",
       "      <td>2.6</td>\n",
       "      <td>2.76</td>\n",
       "      <td>0.29</td>\n",
       "      <td>1.81</td>\n",
       "      <td>5.60</td>\n",
       "      <td>1.15</td>\n",
       "      <td>2.90</td>\n",
       "      <td>1320</td>\n",
       "      <td>1</td>\n",
       "      <td>1</td>\n",
       "    </tr>\n",
       "  </tbody>\n",
       "</table>\n",
       "</div>"
      ],
      "text/plain": [
       "   Alcohol %  Malic Acid   Ash  Alkalinity   Mg  Phenols  Flavanoids  \\\n",
       "0      14.23        1.71  2.43        15.6  127      2.8        3.06   \n",
       "1      13.24        2.59  2.87        21.0  118      2.8        2.69   \n",
       "2      14.83        1.64  2.17        14.0   97      2.8        2.98   \n",
       "3      14.12        1.48  2.32        16.8   95      2.2        2.43   \n",
       "4      13.75        1.73  2.41        16.0   89      2.6        2.76   \n",
       "\n",
       "   Phenols.1  Proantho-cyanins  Color intensity   Hue  OD280 315  Proline  \\\n",
       "0       0.28              2.29             5.64  1.04       3.92     1065   \n",
       "1       0.39              1.82             4.32  1.04       2.93      735   \n",
       "2       0.29              1.98             5.20  1.08       2.85     1045   \n",
       "3       0.26              1.57             5.00  1.17       2.82     1280   \n",
       "4       0.29              1.81             5.60  1.15       2.90     1320   \n",
       "\n",
       "   Start assignment  ranking  \n",
       "0                 1        1  \n",
       "1                 1        1  \n",
       "2                 1        1  \n",
       "3                 1        1  \n",
       "4                 1        1  "
      ]
     },
     "execution_count": 14,
     "metadata": {},
     "output_type": "execute_result"
    }
   ],
   "source": [
    "df_wines = pd.read_csv(\"wines.csv\")\n",
    "df_wines.head()"
   ]
  },
  {
   "cell_type": "code",
   "execution_count": 15,
   "metadata": {},
   "outputs": [
    {
     "data": {
      "text/html": [
       "<div>\n",
       "<style scoped>\n",
       "    .dataframe tbody tr th:only-of-type {\n",
       "        vertical-align: middle;\n",
       "    }\n",
       "\n",
       "    .dataframe tbody tr th {\n",
       "        vertical-align: top;\n",
       "    }\n",
       "\n",
       "    .dataframe thead th {\n",
       "        text-align: right;\n",
       "    }\n",
       "</style>\n",
       "<table border=\"1\" class=\"dataframe\">\n",
       "  <thead>\n",
       "    <tr style=\"text-align: right;\">\n",
       "      <th></th>\n",
       "      <th>Alcohol %</th>\n",
       "      <th>Malic Acid</th>\n",
       "      <th>Ash</th>\n",
       "      <th>Alkalinity</th>\n",
       "      <th>Mg</th>\n",
       "      <th>Phenols</th>\n",
       "      <th>Flavanoids</th>\n",
       "      <th>Phenols.1</th>\n",
       "      <th>Proantho-cyanins</th>\n",
       "      <th>Color intensity</th>\n",
       "      <th>Hue</th>\n",
       "      <th>OD280 315</th>\n",
       "      <th>Proline</th>\n",
       "    </tr>\n",
       "  </thead>\n",
       "  <tbody>\n",
       "    <tr>\n",
       "      <th>0</th>\n",
       "      <td>14.23</td>\n",
       "      <td>1.71</td>\n",
       "      <td>2.43</td>\n",
       "      <td>15.6</td>\n",
       "      <td>127</td>\n",
       "      <td>2.8</td>\n",
       "      <td>3.06</td>\n",
       "      <td>0.28</td>\n",
       "      <td>2.29</td>\n",
       "      <td>5.64</td>\n",
       "      <td>1.04</td>\n",
       "      <td>3.92</td>\n",
       "      <td>1065</td>\n",
       "    </tr>\n",
       "    <tr>\n",
       "      <th>1</th>\n",
       "      <td>13.24</td>\n",
       "      <td>2.59</td>\n",
       "      <td>2.87</td>\n",
       "      <td>21.0</td>\n",
       "      <td>118</td>\n",
       "      <td>2.8</td>\n",
       "      <td>2.69</td>\n",
       "      <td>0.39</td>\n",
       "      <td>1.82</td>\n",
       "      <td>4.32</td>\n",
       "      <td>1.04</td>\n",
       "      <td>2.93</td>\n",
       "      <td>735</td>\n",
       "    </tr>\n",
       "    <tr>\n",
       "      <th>2</th>\n",
       "      <td>14.83</td>\n",
       "      <td>1.64</td>\n",
       "      <td>2.17</td>\n",
       "      <td>14.0</td>\n",
       "      <td>97</td>\n",
       "      <td>2.8</td>\n",
       "      <td>2.98</td>\n",
       "      <td>0.29</td>\n",
       "      <td>1.98</td>\n",
       "      <td>5.20</td>\n",
       "      <td>1.08</td>\n",
       "      <td>2.85</td>\n",
       "      <td>1045</td>\n",
       "    </tr>\n",
       "    <tr>\n",
       "      <th>3</th>\n",
       "      <td>14.12</td>\n",
       "      <td>1.48</td>\n",
       "      <td>2.32</td>\n",
       "      <td>16.8</td>\n",
       "      <td>95</td>\n",
       "      <td>2.2</td>\n",
       "      <td>2.43</td>\n",
       "      <td>0.26</td>\n",
       "      <td>1.57</td>\n",
       "      <td>5.00</td>\n",
       "      <td>1.17</td>\n",
       "      <td>2.82</td>\n",
       "      <td>1280</td>\n",
       "    </tr>\n",
       "    <tr>\n",
       "      <th>4</th>\n",
       "      <td>13.75</td>\n",
       "      <td>1.73</td>\n",
       "      <td>2.41</td>\n",
       "      <td>16.0</td>\n",
       "      <td>89</td>\n",
       "      <td>2.6</td>\n",
       "      <td>2.76</td>\n",
       "      <td>0.29</td>\n",
       "      <td>1.81</td>\n",
       "      <td>5.60</td>\n",
       "      <td>1.15</td>\n",
       "      <td>2.90</td>\n",
       "      <td>1320</td>\n",
       "    </tr>\n",
       "  </tbody>\n",
       "</table>\n",
       "</div>"
      ],
      "text/plain": [
       "   Alcohol %  Malic Acid   Ash  Alkalinity   Mg  Phenols  Flavanoids  \\\n",
       "0      14.23        1.71  2.43        15.6  127      2.8        3.06   \n",
       "1      13.24        2.59  2.87        21.0  118      2.8        2.69   \n",
       "2      14.83        1.64  2.17        14.0   97      2.8        2.98   \n",
       "3      14.12        1.48  2.32        16.8   95      2.2        2.43   \n",
       "4      13.75        1.73  2.41        16.0   89      2.6        2.76   \n",
       "\n",
       "   Phenols.1  Proantho-cyanins  Color intensity   Hue  OD280 315  Proline  \n",
       "0       0.28              2.29             5.64  1.04       3.92     1065  \n",
       "1       0.39              1.82             4.32  1.04       2.93      735  \n",
       "2       0.29              1.98             5.20  1.08       2.85     1045  \n",
       "3       0.26              1.57             5.00  1.17       2.82     1280  \n",
       "4       0.29              1.81             5.60  1.15       2.90     1320  "
      ]
     },
     "execution_count": 15,
     "metadata": {},
     "output_type": "execute_result"
    }
   ],
   "source": [
    "df_futwines = df_wines.copy()\n",
    "df_futwines.drop(columns = ['Start assignment', 'ranking'], inplace = True)\n",
    "df_futwines.head()"
   ]
  },
  {
   "cell_type": "code",
   "execution_count": 16,
   "metadata": {},
   "outputs": [
    {
     "data": {
      "text/html": [
       "<div>\n",
       "<style scoped>\n",
       "    .dataframe tbody tr th:only-of-type {\n",
       "        vertical-align: middle;\n",
       "    }\n",
       "\n",
       "    .dataframe tbody tr th {\n",
       "        vertical-align: top;\n",
       "    }\n",
       "\n",
       "    .dataframe thead th {\n",
       "        text-align: right;\n",
       "    }\n",
       "</style>\n",
       "<table border=\"1\" class=\"dataframe\">\n",
       "  <thead>\n",
       "    <tr style=\"text-align: right;\">\n",
       "      <th></th>\n",
       "      <th>Alcohol %</th>\n",
       "      <th>Malic Acid</th>\n",
       "      <th>Ash</th>\n",
       "      <th>Alkalinity</th>\n",
       "      <th>Mg</th>\n",
       "      <th>Phenols</th>\n",
       "      <th>Flavanoids</th>\n",
       "      <th>Phenols.1</th>\n",
       "      <th>Proantho-cyanins</th>\n",
       "      <th>Color intensity</th>\n",
       "      <th>Hue</th>\n",
       "      <th>OD280 315</th>\n",
       "      <th>Proline</th>\n",
       "    </tr>\n",
       "  </thead>\n",
       "  <tbody>\n",
       "    <tr>\n",
       "      <th>0</th>\n",
       "      <td>1.518613</td>\n",
       "      <td>-0.562250</td>\n",
       "      <td>0.232053</td>\n",
       "      <td>-1.169593</td>\n",
       "      <td>1.913905</td>\n",
       "      <td>0.808997</td>\n",
       "      <td>1.034819</td>\n",
       "      <td>-0.659563</td>\n",
       "      <td>1.224884</td>\n",
       "      <td>0.251717</td>\n",
       "      <td>0.362177</td>\n",
       "      <td>1.847920</td>\n",
       "      <td>1.013009</td>\n",
       "    </tr>\n",
       "    <tr>\n",
       "      <th>1</th>\n",
       "      <td>0.295700</td>\n",
       "      <td>0.227694</td>\n",
       "      <td>1.840403</td>\n",
       "      <td>0.451946</td>\n",
       "      <td>1.281985</td>\n",
       "      <td>0.808997</td>\n",
       "      <td>0.663351</td>\n",
       "      <td>0.226796</td>\n",
       "      <td>0.401404</td>\n",
       "      <td>-0.319276</td>\n",
       "      <td>0.362177</td>\n",
       "      <td>0.449601</td>\n",
       "      <td>-0.037874</td>\n",
       "    </tr>\n",
       "    <tr>\n",
       "      <th>2</th>\n",
       "      <td>2.259772</td>\n",
       "      <td>-0.625086</td>\n",
       "      <td>-0.718336</td>\n",
       "      <td>-1.650049</td>\n",
       "      <td>-0.192495</td>\n",
       "      <td>0.808997</td>\n",
       "      <td>0.954502</td>\n",
       "      <td>-0.578985</td>\n",
       "      <td>0.681738</td>\n",
       "      <td>0.061386</td>\n",
       "      <td>0.537671</td>\n",
       "      <td>0.336606</td>\n",
       "      <td>0.949319</td>\n",
       "    </tr>\n",
       "    <tr>\n",
       "      <th>3</th>\n",
       "      <td>1.382733</td>\n",
       "      <td>-0.768712</td>\n",
       "      <td>-0.170035</td>\n",
       "      <td>-0.809251</td>\n",
       "      <td>-0.332922</td>\n",
       "      <td>-0.152402</td>\n",
       "      <td>0.402320</td>\n",
       "      <td>-0.820719</td>\n",
       "      <td>-0.036617</td>\n",
       "      <td>-0.025128</td>\n",
       "      <td>0.932531</td>\n",
       "      <td>0.294232</td>\n",
       "      <td>1.697675</td>\n",
       "    </tr>\n",
       "    <tr>\n",
       "      <th>4</th>\n",
       "      <td>0.925685</td>\n",
       "      <td>-0.544297</td>\n",
       "      <td>0.158946</td>\n",
       "      <td>-1.049479</td>\n",
       "      <td>-0.754202</td>\n",
       "      <td>0.488531</td>\n",
       "      <td>0.733629</td>\n",
       "      <td>-0.578985</td>\n",
       "      <td>0.383884</td>\n",
       "      <td>0.234414</td>\n",
       "      <td>0.844785</td>\n",
       "      <td>0.407228</td>\n",
       "      <td>1.825055</td>\n",
       "    </tr>\n",
       "  </tbody>\n",
       "</table>\n",
       "</div>"
      ],
      "text/plain": [
       "   Alcohol %  Malic Acid       Ash  Alkalinity        Mg   Phenols  \\\n",
       "0   1.518613   -0.562250  0.232053   -1.169593  1.913905  0.808997   \n",
       "1   0.295700    0.227694  1.840403    0.451946  1.281985  0.808997   \n",
       "2   2.259772   -0.625086 -0.718336   -1.650049 -0.192495  0.808997   \n",
       "3   1.382733   -0.768712 -0.170035   -0.809251 -0.332922 -0.152402   \n",
       "4   0.925685   -0.544297  0.158946   -1.049479 -0.754202  0.488531   \n",
       "\n",
       "   Flavanoids  Phenols.1  Proantho-cyanins  Color intensity       Hue  \\\n",
       "0    1.034819  -0.659563          1.224884         0.251717  0.362177   \n",
       "1    0.663351   0.226796          0.401404        -0.319276  0.362177   \n",
       "2    0.954502  -0.578985          0.681738         0.061386  0.537671   \n",
       "3    0.402320  -0.820719         -0.036617        -0.025128  0.932531   \n",
       "4    0.733629  -0.578985          0.383884         0.234414  0.844785   \n",
       "\n",
       "   OD280 315   Proline  \n",
       "0   1.847920  1.013009  \n",
       "1   0.449601 -0.037874  \n",
       "2   0.336606  0.949319  \n",
       "3   0.294232  1.697675  \n",
       "4   0.407228  1.825055  "
      ]
     },
     "execution_count": 16,
     "metadata": {},
     "output_type": "execute_result"
    }
   ],
   "source": [
    "df_nrml = (df_futwines - df_futwines.mean()) / np.std(df_futwines)\n",
    "df_nrml.head()"
   ]
  },
  {
   "cell_type": "markdown",
   "metadata": {},
   "source": [
    "## 2b:"
   ]
  },
  {
   "cell_type": "code",
   "execution_count": 17,
   "metadata": {},
   "outputs": [
    {
     "data": {
      "text/html": [
       "<div>\n",
       "<style scoped>\n",
       "    .dataframe tbody tr th:only-of-type {\n",
       "        vertical-align: middle;\n",
       "    }\n",
       "\n",
       "    .dataframe tbody tr th {\n",
       "        vertical-align: top;\n",
       "    }\n",
       "\n",
       "    .dataframe thead th {\n",
       "        text-align: right;\n",
       "    }\n",
       "</style>\n",
       "<table border=\"1\" class=\"dataframe\">\n",
       "  <thead>\n",
       "    <tr style=\"text-align: right;\">\n",
       "      <th></th>\n",
       "      <th>Alcohol %</th>\n",
       "      <th>Malic Acid</th>\n",
       "      <th>Ash</th>\n",
       "      <th>Alkalinity</th>\n",
       "      <th>Mg</th>\n",
       "      <th>Phenols</th>\n",
       "      <th>Flavanoids</th>\n",
       "      <th>Phenols.1</th>\n",
       "      <th>Proantho-cyanins</th>\n",
       "      <th>Color intensity</th>\n",
       "      <th>Hue</th>\n",
       "      <th>OD280 315</th>\n",
       "      <th>Proline</th>\n",
       "    </tr>\n",
       "    <tr>\n",
       "      <th>Start assignment</th>\n",
       "      <th></th>\n",
       "      <th></th>\n",
       "      <th></th>\n",
       "      <th></th>\n",
       "      <th></th>\n",
       "      <th></th>\n",
       "      <th></th>\n",
       "      <th></th>\n",
       "      <th></th>\n",
       "      <th></th>\n",
       "      <th></th>\n",
       "      <th></th>\n",
       "      <th></th>\n",
       "    </tr>\n",
       "  </thead>\n",
       "  <tbody>\n",
       "    <tr>\n",
       "      <th>1</th>\n",
       "      <td>-0.026321</td>\n",
       "      <td>-0.022878</td>\n",
       "      <td>0.039202</td>\n",
       "      <td>-0.011425</td>\n",
       "      <td>0.001197</td>\n",
       "      <td>0.046232</td>\n",
       "      <td>-0.014499</td>\n",
       "      <td>-0.092738</td>\n",
       "      <td>0.015342</td>\n",
       "      <td>-0.122680</td>\n",
       "      <td>0.072159</td>\n",
       "      <td>-0.021132</td>\n",
       "      <td>-0.001088</td>\n",
       "    </tr>\n",
       "    <tr>\n",
       "      <th>2</th>\n",
       "      <td>-0.030284</td>\n",
       "      <td>-0.043279</td>\n",
       "      <td>-0.117993</td>\n",
       "      <td>-0.122667</td>\n",
       "      <td>-0.180594</td>\n",
       "      <td>-0.110306</td>\n",
       "      <td>-0.040446</td>\n",
       "      <td>0.035593</td>\n",
       "      <td>-0.147087</td>\n",
       "      <td>-0.218465</td>\n",
       "      <td>0.084808</td>\n",
       "      <td>0.077818</td>\n",
       "      <td>-0.085479</td>\n",
       "    </tr>\n",
       "    <tr>\n",
       "      <th>3</th>\n",
       "      <td>0.054317</td>\n",
       "      <td>0.063613</td>\n",
       "      <td>0.076850</td>\n",
       "      <td>0.129509</td>\n",
       "      <td>0.173535</td>\n",
       "      <td>0.062731</td>\n",
       "      <td>0.052907</td>\n",
       "      <td>0.053751</td>\n",
       "      <td>0.127677</td>\n",
       "      <td>0.327948</td>\n",
       "      <td>-0.150638</td>\n",
       "      <td>-0.055173</td>\n",
       "      <td>0.083711</td>\n",
       "    </tr>\n",
       "  </tbody>\n",
       "</table>\n",
       "</div>"
      ],
      "text/plain": [
       "                  Alcohol %  Malic Acid       Ash  Alkalinity        Mg  \\\n",
       "Start assignment                                                          \n",
       "1                 -0.026321   -0.022878  0.039202   -0.011425  0.001197   \n",
       "2                 -0.030284   -0.043279 -0.117993   -0.122667 -0.180594   \n",
       "3                  0.054317    0.063613  0.076850    0.129509  0.173535   \n",
       "\n",
       "                   Phenols  Flavanoids  Phenols.1  Proantho-cyanins  \\\n",
       "Start assignment                                                      \n",
       "1                 0.046232   -0.014499  -0.092738          0.015342   \n",
       "2                -0.110306   -0.040446   0.035593         -0.147087   \n",
       "3                 0.062731    0.052907   0.053751          0.127677   \n",
       "\n",
       "                  Color intensity       Hue  OD280 315   Proline  \n",
       "Start assignment                                                  \n",
       "1                       -0.122680  0.072159  -0.021132 -0.001088  \n",
       "2                       -0.218465  0.084808   0.077818 -0.085479  \n",
       "3                        0.327948 -0.150638  -0.055173  0.083711  "
      ]
     },
     "execution_count": 17,
     "metadata": {},
     "output_type": "execute_result"
    }
   ],
   "source": [
    "df_nrml['Start assignment'] = df_wines['Start assignment']\n",
    "df_centroids = df_nrml.groupby('Start assignment').agg(np.mean)\n",
    "df_centroids"
   ]
  },
  {
   "cell_type": "markdown",
   "metadata": {},
   "source": [
    "## 2c:"
   ]
  },
  {
   "cell_type": "code",
   "execution_count": 18,
   "metadata": {},
   "outputs": [
    {
     "data": {
      "text/plain": [
       "2288.2043588628485"
      ]
     },
     "execution_count": 18,
     "metadata": {},
     "output_type": "execute_result"
    }
   ],
   "source": [
    "def cost_func_eval(df_nml, df_cent):\n",
    "    cost_part = 0\n",
    "    for i in range(1,4):\n",
    "        temp = df_nml[df_nml['Start assignment'] == i]\n",
    "        cost_part +=((temp - df_cent.iloc[i-1])**2).sum().sum()\n",
    "    return cost_part\n",
    "cost_func_eval(df_nrml, df_centroids)"
   ]
  },
  {
   "cell_type": "markdown",
   "metadata": {},
   "source": [
    "## 2d:"
   ]
  },
  {
   "cell_type": "code",
   "execution_count": 19,
   "metadata": {},
   "outputs": [
    {
     "data": {
      "text/plain": [
       "178"
      ]
     },
     "execution_count": 19,
     "metadata": {},
     "output_type": "execute_result"
    }
   ],
   "source": [
    "rank_asn = df_nrml['Start assignment'].values\n",
    "cents = df_centroids.values\n",
    "len(rank_asn)"
   ]
  },
  {
   "cell_type": "code",
   "execution_count": 20,
   "metadata": {},
   "outputs": [
    {
     "data": {
      "text/plain": [
       "2288.2043588628485"
      ]
     },
     "execution_count": 20,
     "metadata": {},
     "output_type": "execute_result"
    }
   ],
   "source": [
    "import numba\n",
    "@numba.njit()\n",
    "def calc_cost(df, centers, current_rank):\n",
    "    \"\"\"\n",
    "    df: np.array of defined type, wine features\n",
    "    current_rank: np.array of defined type (178,), wine assignment\n",
    "    centers: np.array of defined type (3, 13), centroids\n",
    "    \n",
    "    numba will throw errors on pd.DataFrame/Series with undefined types\n",
    "    use DataFrame.values to get np.array object instead of pd.DataFrame\n",
    "    \"\"\"\n",
    "    total_dist=0\n",
    "    df[:,13] = current_rank\n",
    "    for r in [1,2,3]:\n",
    "        # find wines with r rank, calculate & add to the total cost\n",
    "        temp = df[df[:,13] == r][:,:13]\n",
    "        size_mat = temp.shape\n",
    "        ac_size = size_mat[0] * size_mat[1]\n",
    "        total_dist += np.sum(((temp - centers[r-1])**2).reshape(1,ac_size))\n",
    "    return total_dist\n",
    "calc_cost(df_nrml.values, cents, rank_asn)"
   ]
  },
  {
   "cell_type": "code",
   "execution_count": 21,
   "metadata": {},
   "outputs": [],
   "source": [
    "def simulated_annealing(feats,ranks,centers,start_temp,alpha,steps=10000):\n",
    "    \"\"\" Simulated Annealing for clustering\n",
    "    feats: pd.DataFrame. Normalized chemical descriptors\n",
    "    ranks: np.array shape(178,). Initial assignment.\n",
    "    centers: np.array shape (3,13). Fixed centers\n",
    "    start_temp: float. Initial temperature\n",
    "    alpha: float. Hyperparameter for geometric cooling\n",
    "    steps: int. \n",
    "    \"\"\"\n",
    "    best_rank=ranks.copy()\n",
    "    # evaluate the cost function with current best rank\n",
    "    lowest_eval= calc_cost(feats.values,centers,best_rank)\n",
    "    for step in (range(steps)):\n",
    "        # update tempture according to geometric cooling schedule\n",
    "        temp = start_temp * ((alpha)**(step+1))\n",
    "        if step%500==0: # original -> if step%500 == 0:\n",
    "            print(step,temp,lowest_eval)\n",
    "        for n in range(len(ranks)):\n",
    "            trial=ranks.copy()\n",
    "            rand_choice=np.random.randint(3)+1\n",
    "            trial[n]=rand_choice\n",
    "            # Metropolis acceptance criterion\n",
    "            if (metro_accept(temp,calc_cost(feats.values, centers, trial), calc_cost(feats.values, centers, ranks))):\n",
    "                ranks=trial\n",
    "                # update evaluation\n",
    "                new_eval= calc_cost(feats.values,centers,ranks)\n",
    "                if new_eval<lowest_eval:\n",
    "                    #update best rank and lowest_eval\n",
    "                    best_rank = ranks.copy()\n",
    "                    lowest_eval= calc_cost(feats.values,centers,best_rank)\n",
    "    return {\"solution\":best_rank,\"evaluation\":lowest_eval}"
   ]
  },
  {
   "cell_type": "markdown",
   "metadata": {},
   "source": [
    "To validate how good is your solution"
   ]
  },
  {
   "cell_type": "code",
   "execution_count": 22,
   "metadata": {},
   "outputs": [],
   "source": [
    "def validate(solution, df):\n",
    "    \"\"\"Prints out how many wines are corretly assigned to its cultivar\n",
    "    solution: np.array shape(178,). Your solution.\n",
    "    df: pd.DataFrame. Read-in of the wines.csv dataset\n",
    "    \"\"\"\n",
    "    # correct classification\n",
    "    ranking = df['ranking'].values\n",
    "    cluster_1 = list(df[df['ranking']==1].index)\n",
    "    cluster_2 = list(df[df['ranking']==2].index)\n",
    "    cluster_3 = list(df[df['ranking']==3].index)\n",
    "    clusters =[cluster_1,cluster_2,cluster_3]\n",
    "\n",
    "    for i in range(3):\n",
    "        scores=[]\n",
    "        for j in range(1,4):\n",
    "            sol_j= [idx for idx,k in enumerate(solution) if k==j]\n",
    "            scores.append(len(np.intersect1d(sol_j, clusters[i])))\n",
    "\n",
    "        print(f'Class {i+1} - cultivar {np.argmax(scores)+1}: {np.max(scores)} out \\\n",
    "of {len(clusters[np.argmax(scores)])} are classified correctly')"
   ]
  },
  {
   "cell_type": "code",
   "execution_count": 23,
   "metadata": {},
   "outputs": [
    {
     "name": "stdout",
     "output_type": "stream",
     "text": [
      "0 499.5 2288.2043588628485\n",
      "500 302.88628295816176 2285.668123782146\n",
      "1000 183.66386467309636 2274.272927459844\n",
      "1500 111.3699004695996 2274.272927459844\n",
      "2000 67.53236273605097 2274.272927459844\n",
      "2500 40.95020285986938 2274.272927459844\n",
      "3000 24.831340802019064 2274.272927459844\n",
      "3500 15.057202235016803 2274.272927459844\n",
      "4000 9.130370403830963 2274.272927459844\n",
      "4500 5.536464371666808 2268.493919179643\n"
     ]
    }
   ],
   "source": [
    "prayge = simulated_annealing(df_nrml, rank_asn, cents, 500, 0.999, 5000)"
   ]
  },
  {
   "cell_type": "code",
   "execution_count": 24,
   "metadata": {},
   "outputs": [
    {
     "data": {
      "text/plain": [
       "{'solution': array([1, 1, 1, 1, 1, 3, 1, 3, 2, 2, 3, 2, 3, 2, 3, 2, 3, 3, 3, 3, 2, 2,\n",
       "        2, 2, 3, 2, 3, 2, 1, 2, 3, 2, 1, 1, 1, 2, 1, 3, 2, 2, 2, 2, 1, 3,\n",
       "        1, 2, 2, 2, 2, 2, 3, 3, 1, 3, 3, 3, 1, 3, 3, 3, 1, 1, 2, 3, 1, 3,\n",
       "        3, 1, 3, 3, 1, 2, 2, 3, 1, 3, 3, 1, 2, 2, 3, 2, 1, 3, 2, 2, 2, 2,\n",
       "        3, 2, 2, 1, 2, 1, 1, 1, 1, 1, 2, 2, 2, 2, 1, 3, 2, 2, 3, 2, 3, 3,\n",
       "        3, 3, 2, 2, 1, 1, 1, 2, 3, 3, 1, 2, 1, 1, 3, 2, 1, 3, 2, 3, 1, 1,\n",
       "        3, 1, 3, 3, 1, 1, 2, 1, 1, 3, 2, 2, 1, 3, 1, 2, 2, 1, 2, 1, 2, 2,\n",
       "        3, 1, 3, 2, 3, 3, 1, 2, 3, 3, 3, 3, 3, 2, 2, 3, 3, 3, 3, 2, 3, 3,\n",
       "        3, 2]),\n",
       " 'evaluation': 2247.2820058411708}"
      ]
     },
     "execution_count": 24,
     "metadata": {},
     "output_type": "execute_result"
    }
   ],
   "source": [
    "prayge"
   ]
  },
  {
   "cell_type": "code",
   "execution_count": 25,
   "metadata": {},
   "outputs": [
    {
     "name": "stdout",
     "output_type": "stream",
     "text": [
      "Class 1 - cultivar 3: 27 out of 48 are classified correctly\n",
      "Class 2 - cultivar 2: 37 out of 71 are classified correctly\n",
      "Class 3 - cultivar 3: 27 out of 48 are classified correctly\n"
     ]
    }
   ],
   "source": [
    "validate(prayge['solution'], df_wines)"
   ]
  },
  {
   "cell_type": "code",
   "execution_count": 26,
   "metadata": {},
   "outputs": [
    {
     "name": "stdout",
     "output_type": "stream",
     "text": [
      "0 499.5 2288.2043588628485\n",
      "500 302.88628295816176 2279.8944615637756\n",
      "1000 183.66386467309636 2279.8944615637756\n",
      "1500 111.3699004695996 2279.8944615637756\n",
      "2000 67.53236273605097 2279.8944615637756\n",
      "2500 40.95020285986938 2279.8944615637756\n",
      "3000 24.831340802019064 2279.8944615637756\n",
      "3500 15.057202235016803 2279.8944615637756\n",
      "4000 9.130370403830963 2269.491528755392\n",
      "4500 5.536464371666808 2269.274188842376\n"
     ]
    }
   ],
   "source": [
    "prayge2 = simulated_annealing(df_nrml, rank_asn, cents, 500, 0.999, 5000)"
   ]
  },
  {
   "cell_type": "code",
   "execution_count": 27,
   "metadata": {},
   "outputs": [
    {
     "data": {
      "text/plain": [
       "{'solution': array([1, 1, 2, 1, 3, 1, 1, 1, 1, 1, 2, 2, 2, 2, 1, 2, 3, 1, 1, 3, 2, 2,\n",
       "        1, 2, 1, 1, 2, 2, 2, 1, 2, 1, 1, 1, 1, 3, 1, 2, 2, 1, 1, 1, 2, 2,\n",
       "        1, 2, 2, 2, 3, 3, 2, 2, 3, 3, 1, 3, 3, 2, 2, 1, 3, 2, 1, 3, 1, 1,\n",
       "        1, 3, 3, 3, 1, 3, 2, 3, 1, 1, 1, 1, 2, 3, 1, 1, 1, 1, 1, 2, 3, 2,\n",
       "        2, 2, 3, 2, 2, 2, 2, 2, 3, 3, 1, 2, 3, 1, 2, 1, 1, 2, 2, 2, 1, 3,\n",
       "        3, 3, 2, 2, 1, 2, 2, 3, 1, 1, 2, 3, 3, 2, 3, 2, 2, 3, 1, 3, 3, 1,\n",
       "        3, 3, 3, 3, 2, 1, 1, 2, 1, 1, 1, 2, 3, 2, 1, 1, 3, 1, 1, 2, 2, 2,\n",
       "        3, 3, 2, 2, 1, 2, 2, 3, 3, 3, 3, 3, 3, 2, 3, 3, 3, 2, 3, 3, 3, 1,\n",
       "        3, 2]),\n",
       " 'evaluation': 2249.0929759002834}"
      ]
     },
     "execution_count": 27,
     "metadata": {},
     "output_type": "execute_result"
    }
   ],
   "source": [
    "prayge2"
   ]
  },
  {
   "cell_type": "code",
   "execution_count": 28,
   "metadata": {},
   "outputs": [
    {
     "name": "stdout",
     "output_type": "stream",
     "text": [
      "Class 1 - cultivar 1: 25 out of 59 are classified correctly\n",
      "Class 2 - cultivar 2: 32 out of 71 are classified correctly\n",
      "Class 3 - cultivar 3: 22 out of 48 are classified correctly\n"
     ]
    }
   ],
   "source": [
    "validate(prayge2['solution'], df_wines)"
   ]
  },
  {
   "cell_type": "code",
   "execution_count": 29,
   "metadata": {},
   "outputs": [
    {
     "name": "stdout",
     "output_type": "stream",
     "text": [
      "0 499.5 2288.2043588628485\n",
      "500 302.88628295816176 2287.8530359178967\n",
      "1000 183.66386467309636 2287.8530359178967\n",
      "1500 111.3699004695996 2287.8530359178967\n",
      "2000 67.53236273605097 2287.8530359178967\n",
      "2500 40.95020285986938 2287.8530359178967\n",
      "3000 24.831340802019064 2287.8530359178967\n",
      "3500 15.057202235016803 2284.277312508752\n",
      "4000 9.130370403830963 2273.7448148795265\n",
      "4500 5.536464371666808 2262.1419621581204\n"
     ]
    }
   ],
   "source": [
    "prayge3 = simulated_annealing(df_nrml, rank_asn, cents, 500, 0.999, 5000)"
   ]
  },
  {
   "cell_type": "code",
   "execution_count": 30,
   "metadata": {},
   "outputs": [
    {
     "data": {
      "text/plain": [
       "{'solution': array([1, 3, 2, 1, 3, 1, 3, 1, 3, 1, 1, 3, 1, 3, 3, 3, 1, 2, 3, 3, 2, 2,\n",
       "        3, 2, 2, 2, 2, 2, 2, 1, 2, 3, 1, 1, 2, 1, 2, 1, 2, 2, 1, 1, 2, 1,\n",
       "        2, 1, 2, 2, 3, 3, 3, 3, 1, 1, 3, 3, 3, 1, 3, 1, 2, 2, 1, 1, 1, 3,\n",
       "        2, 2, 2, 2, 2, 3, 2, 3, 2, 3, 3, 2, 2, 2, 1, 2, 3, 3, 2, 3, 2, 2,\n",
       "        2, 2, 2, 1, 2, 2, 1, 1, 2, 3, 2, 2, 2, 2, 2, 2, 2, 3, 3, 2, 1, 2,\n",
       "        3, 3, 2, 3, 1, 3, 2, 3, 1, 3, 3, 3, 3, 1, 1, 1, 3, 3, 1, 3, 2, 3,\n",
       "        3, 1, 3, 3, 2, 3, 3, 1, 3, 3, 2, 1, 3, 1, 2, 2, 2, 2, 1, 3, 3, 2,\n",
       "        3, 1, 2, 1, 2, 3, 2, 3, 3, 3, 3, 3, 3, 1, 3, 3, 3, 3, 3, 3, 2, 1,\n",
       "        3, 1]),\n",
       " 'evaluation': 2250.828424161473}"
      ]
     },
     "execution_count": 30,
     "metadata": {},
     "output_type": "execute_result"
    }
   ],
   "source": [
    "prayge3"
   ]
  },
  {
   "cell_type": "code",
   "execution_count": 31,
   "metadata": {},
   "outputs": [
    {
     "name": "stdout",
     "output_type": "stream",
     "text": [
      "Class 1 - cultivar 3: 28 out of 48 are classified correctly\n",
      "Class 2 - cultivar 2: 39 out of 71 are classified correctly\n",
      "Class 3 - cultivar 3: 27 out of 48 are classified correctly\n"
     ]
    }
   ],
   "source": [
    "validate(prayge3['solution'], df_wines)"
   ]
  },
  {
   "cell_type": "markdown",
   "metadata": {},
   "source": [
    "From the 3 attempts, I am hovering around 50% (plus or minus 10%) of the wines in each class being correctly classified and final function evaluations in the range of 2245 to 2255. This is not a great classification, but it can definitely be improved. "
   ]
  },
  {
   "cell_type": "markdown",
   "metadata": {},
   "source": [
    "## 2e:"
   ]
  },
  {
   "cell_type": "code",
   "execution_count": 32,
   "metadata": {},
   "outputs": [],
   "source": [
    "def closest_cent(df,new_cents):\n",
    "    ranks_arr = []\n",
    "    for i in range(178):\n",
    "        dists_cent1 = ((df[i,:13] - new_cents[0])**2).sum()\n",
    "        dists_cent2 = ((df[i,:13] - new_cents[1])**2).sum()\n",
    "        dists_cent3 = ((df[i, :13] - new_cents[2])**2).sum()\n",
    "        min_dist = np.min([dists_cent1, dists_cent2, dists_cent3])\n",
    "        new_rank = np.where(np.array([dists_cent1, dists_cent2, dists_cent3]) == min_dist)\n",
    "        ranks_arr.append(new_rank[0].item() + 1)\n",
    "    return np.array(ranks_arr)"
   ]
  },
  {
   "cell_type": "code",
   "execution_count": 33,
   "metadata": {},
   "outputs": [],
   "source": [
    "def up_simulated_annealing(feats,ranks,centers,start_temp,alpha,steps=10000):\n",
    "    \"\"\" Simulated Annealing for clustering\n",
    "    feats: pd.DataFrame. Normalized chemical descriptors\n",
    "    ranks: np.array shape(178,). Initial assignment.\n",
    "    centers: np.array shape (3,13). Fixed centers\n",
    "    start_temp: float. Initial temperature\n",
    "    alpha: float. Hyperparameter for geometric cooling\n",
    "    steps: int. \n",
    "    \"\"\"\n",
    "    best_rank=ranks.copy()\n",
    "    # evaluate the cost function with current best rank\n",
    "    lowest_eval= calc_cost(feats.values,centers,best_rank)\n",
    "    for step in (range(steps)):\n",
    "        # update tempture according to geometric cooling schedule\n",
    "        temp = start_temp * ((alpha)**(step+1))\n",
    "        if step%500==0: # original -> if step%500 == 0:\n",
    "            print(step,temp,lowest_eval)\n",
    "        trial_cents = centers.copy()\n",
    "        mods_cents = [0.01*(2*np.random.random()-1) for i in range(39)]\n",
    "        ncents = np.ones((3,13))\n",
    "        ncents[0] = trial_cents[0] + mods_cents[:13]\n",
    "        ncents[1] = trial_cents[1] + mods_cents[13:26]\n",
    "        ncents[2] = trial_cents[2] + mods_cents[26:]\n",
    "        new_rnks = closest_cent(feats.values, ncents)\n",
    "        # Metropolis acceptance criterion\n",
    "        if (metro_accept(temp,calc_cost(feats.values, centers, new_rnks), calc_cost(feats.values, centers, ranks))):\n",
    "            ranks=new_rnks\n",
    "            # update evaluation\n",
    "            new_eval= calc_cost(feats.values,centers,ranks)\n",
    "            if new_eval<lowest_eval:\n",
    "                #update best rank and lowest_eval\n",
    "                best_rank = ranks.copy()\n",
    "                lowest_eval= calc_cost(feats.values,centers,best_rank)\n",
    "    return {\"solution\":best_rank,\"evaluation\":lowest_eval}"
   ]
  },
  {
   "cell_type": "code",
   "execution_count": 34,
   "metadata": {},
   "outputs": [
    {
     "name": "stdout",
     "output_type": "stream",
     "text": [
      "0 499.5 2288.2043588628485\n",
      "500 302.88628295816176 2160.1710142099078\n",
      "1000 183.66386467309636 2160.1710142099078\n",
      "1500 111.3699004695996 2160.1710142099078\n",
      "2000 67.53236273605097 2160.1710142099078\n",
      "2500 40.95020285986938 2160.1710142099078\n",
      "3000 24.831340802019064 2160.1710142099078\n",
      "3500 15.057202235016803 2160.1710142099078\n",
      "4000 9.130370403830963 2160.1710142099078\n",
      "4500 5.536464371666808 2160.1710142099078\n"
     ]
    }
   ],
   "source": [
    "CSA_rng_cents = up_simulated_annealing(df_nrml, rank_asn, cents, 500, 0.999, 5000)"
   ]
  },
  {
   "cell_type": "code",
   "execution_count": 35,
   "metadata": {},
   "outputs": [
    {
     "data": {
      "text/plain": [
       "{'solution': array([3, 3, 1, 1, 1, 3, 3, 1, 1, 2, 1, 3, 1, 1, 1, 1, 3, 1, 3, 3, 2, 1,\n",
       "        2, 2, 2, 2, 1, 2, 2, 2, 3, 1, 2, 2, 2, 1, 2, 2, 2, 1, 2, 2, 2, 3,\n",
       "        1, 2, 3, 2, 2, 3, 3, 3, 3, 3, 3, 3, 3, 3, 2, 3, 3, 3, 1, 3, 1, 3,\n",
       "        1, 3, 1, 1, 2, 3, 1, 3, 3, 1, 3, 3, 2, 2, 2, 2, 1, 2, 2, 1, 2, 2,\n",
       "        2, 2, 2, 2, 2, 2, 2, 2, 1, 2, 2, 2, 2, 2, 1, 2, 2, 2, 2, 2, 2, 3,\n",
       "        3, 3, 3, 2, 3, 2, 3, 3, 1, 3, 3, 3, 3, 3, 1, 1, 1, 3, 1, 3, 2, 3,\n",
       "        3, 3, 3, 3, 2, 1, 2, 1, 3, 1, 2, 1, 2, 2, 2, 1, 2, 1, 2, 2, 2, 2,\n",
       "        3, 1, 1, 2, 1, 2, 2, 3, 3, 3, 3, 3, 3, 3, 3, 3, 3, 3, 3, 3, 3, 3,\n",
       "        3, 2]),\n",
       " 'evaluation': 2160.1710142099078}"
      ]
     },
     "execution_count": 35,
     "metadata": {},
     "output_type": "execute_result"
    }
   ],
   "source": [
    "CSA_rng_cents"
   ]
  },
  {
   "cell_type": "code",
   "execution_count": 36,
   "metadata": {},
   "outputs": [
    {
     "name": "stdout",
     "output_type": "stream",
     "text": [
      "Class 1 - cultivar 3: 32 out of 48 are classified correctly\n",
      "Class 2 - cultivar 2: 51 out of 71 are classified correctly\n",
      "Class 3 - cultivar 3: 33 out of 48 are classified correctly\n"
     ]
    }
   ],
   "source": [
    "validate(CSA_rng_cents['solution'], df_wines)"
   ]
  },
  {
   "cell_type": "code",
   "execution_count": 37,
   "metadata": {},
   "outputs": [
    {
     "name": "stdout",
     "output_type": "stream",
     "text": [
      "0 499.5 2288.2043588628485\n",
      "500 302.88628295816176 2160.1710142099078\n",
      "1000 183.66386467309636 2160.1710142099078\n",
      "1500 111.3699004695996 2160.1710142099078\n",
      "2000 67.53236273605097 2160.1710142099078\n",
      "2500 40.95020285986938 2160.1710142099078\n",
      "3000 24.831340802019064 2160.1710142099078\n",
      "3500 15.057202235016803 2160.1710142099078\n",
      "4000 9.130370403830963 2160.1710142099078\n",
      "4500 5.536464371666808 2160.1710142099078\n"
     ]
    }
   ],
   "source": [
    "CSA_rng_cents2 = up_simulated_annealing(df_nrml, rank_asn, cents, 500, 0.999, 5000)"
   ]
  },
  {
   "cell_type": "code",
   "execution_count": 38,
   "metadata": {},
   "outputs": [
    {
     "name": "stdout",
     "output_type": "stream",
     "text": [
      "Class 1 - cultivar 3: 32 out of 48 are classified correctly\n",
      "Class 2 - cultivar 2: 51 out of 71 are classified correctly\n",
      "Class 3 - cultivar 3: 33 out of 48 are classified correctly\n"
     ]
    }
   ],
   "source": [
    "validate(CSA_rng_cents2['solution'], df_wines)"
   ]
  },
  {
   "cell_type": "markdown",
   "metadata": {},
   "source": [
    "I ran this variation of CSA 3 times and I consistently ended with a final function value of 2160.171. This is a better solution than the version of CSA used in part 2d and I have never seen a final function evaluation in 2d smaller than the final function evaluation in 2e. Overall, for each class, on average, around 2/3 or 67% of the wines in each class are correctly classified.  For class 1, 32 out of 48 were classified correctly. For class 2, 51 out of 71 were classified correctly. For class 3, 33 out of 48 were classified correctly. "
   ]
  }
 ],
 "metadata": {
  "kernelspec": {
   "display_name": "Python 3 (ipykernel)",
   "language": "python",
   "name": "python3"
  },
  "language_info": {
   "codemirror_mode": {
    "name": "ipython",
    "version": 3
   },
   "file_extension": ".py",
   "mimetype": "text/x-python",
   "name": "python",
   "nbconvert_exporter": "python",
   "pygments_lexer": "ipython3",
   "version": "3.9.12"
  }
 },
 "nbformat": 4,
 "nbformat_minor": 4
}
