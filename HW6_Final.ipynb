{
 "cells": [
  {
   "cell_type": "code",
   "execution_count": 1,
   "id": "1756937b",
   "metadata": {},
   "outputs": [],
   "source": [
    "import torch\n",
    "import numpy as np\n",
    "import sklearn\n",
    "from torch import nn\n",
    "import pandas as pd\n",
    "import matplotlib.pyplot as plt"
   ]
  },
  {
   "cell_type": "markdown",
   "id": "a411c795",
   "metadata": {},
   "source": [
    "##  Loading in Data"
   ]
  },
  {
   "cell_type": "code",
   "execution_count": 2,
   "id": "a7bf6e0a",
   "metadata": {},
   "outputs": [
    {
     "data": {
      "text/html": [
       "<div>\n",
       "<style scoped>\n",
       "    .dataframe tbody tr th:only-of-type {\n",
       "        vertical-align: middle;\n",
       "    }\n",
       "\n",
       "    .dataframe tbody tr th {\n",
       "        vertical-align: top;\n",
       "    }\n",
       "\n",
       "    .dataframe thead th {\n",
       "        text-align: right;\n",
       "    }\n",
       "</style>\n",
       "<table border=\"1\" class=\"dataframe\">\n",
       "  <thead>\n",
       "    <tr style=\"text-align: right;\">\n",
       "      <th></th>\n",
       "      <th>Alcohol %</th>\n",
       "      <th>Malic Acid</th>\n",
       "      <th>Ash</th>\n",
       "      <th>Alkalinity</th>\n",
       "      <th>Mg</th>\n",
       "      <th>Phenols</th>\n",
       "      <th>Flavanoids</th>\n",
       "      <th>Phenols.1</th>\n",
       "      <th>Proantho-cyanins</th>\n",
       "      <th>Color intensity</th>\n",
       "      <th>Hue</th>\n",
       "      <th>OD280 315</th>\n",
       "      <th>Proline</th>\n",
       "      <th>Start assignment</th>\n",
       "      <th>ranking</th>\n",
       "    </tr>\n",
       "  </thead>\n",
       "  <tbody>\n",
       "    <tr>\n",
       "      <th>0</th>\n",
       "      <td>14.23</td>\n",
       "      <td>1.71</td>\n",
       "      <td>2.43</td>\n",
       "      <td>15.6</td>\n",
       "      <td>127</td>\n",
       "      <td>2.8</td>\n",
       "      <td>3.06</td>\n",
       "      <td>0.28</td>\n",
       "      <td>2.29</td>\n",
       "      <td>5.64</td>\n",
       "      <td>1.04</td>\n",
       "      <td>3.92</td>\n",
       "      <td>1065</td>\n",
       "      <td>1</td>\n",
       "      <td>1</td>\n",
       "    </tr>\n",
       "    <tr>\n",
       "      <th>1</th>\n",
       "      <td>13.24</td>\n",
       "      <td>2.59</td>\n",
       "      <td>2.87</td>\n",
       "      <td>21.0</td>\n",
       "      <td>118</td>\n",
       "      <td>2.8</td>\n",
       "      <td>2.69</td>\n",
       "      <td>0.39</td>\n",
       "      <td>1.82</td>\n",
       "      <td>4.32</td>\n",
       "      <td>1.04</td>\n",
       "      <td>2.93</td>\n",
       "      <td>735</td>\n",
       "      <td>1</td>\n",
       "      <td>1</td>\n",
       "    </tr>\n",
       "    <tr>\n",
       "      <th>2</th>\n",
       "      <td>14.83</td>\n",
       "      <td>1.64</td>\n",
       "      <td>2.17</td>\n",
       "      <td>14.0</td>\n",
       "      <td>97</td>\n",
       "      <td>2.8</td>\n",
       "      <td>2.98</td>\n",
       "      <td>0.29</td>\n",
       "      <td>1.98</td>\n",
       "      <td>5.20</td>\n",
       "      <td>1.08</td>\n",
       "      <td>2.85</td>\n",
       "      <td>1045</td>\n",
       "      <td>1</td>\n",
       "      <td>1</td>\n",
       "    </tr>\n",
       "    <tr>\n",
       "      <th>3</th>\n",
       "      <td>14.12</td>\n",
       "      <td>1.48</td>\n",
       "      <td>2.32</td>\n",
       "      <td>16.8</td>\n",
       "      <td>95</td>\n",
       "      <td>2.2</td>\n",
       "      <td>2.43</td>\n",
       "      <td>0.26</td>\n",
       "      <td>1.57</td>\n",
       "      <td>5.00</td>\n",
       "      <td>1.17</td>\n",
       "      <td>2.82</td>\n",
       "      <td>1280</td>\n",
       "      <td>1</td>\n",
       "      <td>1</td>\n",
       "    </tr>\n",
       "    <tr>\n",
       "      <th>4</th>\n",
       "      <td>13.75</td>\n",
       "      <td>1.73</td>\n",
       "      <td>2.41</td>\n",
       "      <td>16.0</td>\n",
       "      <td>89</td>\n",
       "      <td>2.6</td>\n",
       "      <td>2.76</td>\n",
       "      <td>0.29</td>\n",
       "      <td>1.81</td>\n",
       "      <td>5.60</td>\n",
       "      <td>1.15</td>\n",
       "      <td>2.90</td>\n",
       "      <td>1320</td>\n",
       "      <td>1</td>\n",
       "      <td>1</td>\n",
       "    </tr>\n",
       "  </tbody>\n",
       "</table>\n",
       "</div>"
      ],
      "text/plain": [
       "   Alcohol %  Malic Acid   Ash  Alkalinity   Mg  Phenols  Flavanoids  \\\n",
       "0      14.23        1.71  2.43        15.6  127      2.8        3.06   \n",
       "1      13.24        2.59  2.87        21.0  118      2.8        2.69   \n",
       "2      14.83        1.64  2.17        14.0   97      2.8        2.98   \n",
       "3      14.12        1.48  2.32        16.8   95      2.2        2.43   \n",
       "4      13.75        1.73  2.41        16.0   89      2.6        2.76   \n",
       "\n",
       "   Phenols.1  Proantho-cyanins  Color intensity   Hue  OD280 315  Proline  \\\n",
       "0       0.28              2.29             5.64  1.04       3.92     1065   \n",
       "1       0.39              1.82             4.32  1.04       2.93      735   \n",
       "2       0.29              1.98             5.20  1.08       2.85     1045   \n",
       "3       0.26              1.57             5.00  1.17       2.82     1280   \n",
       "4       0.29              1.81             5.60  1.15       2.90     1320   \n",
       "\n",
       "   Start assignment  ranking  \n",
       "0                 1        1  \n",
       "1                 1        1  \n",
       "2                 1        1  \n",
       "3                 1        1  \n",
       "4                 1        1  "
      ]
     },
     "execution_count": 2,
     "metadata": {},
     "output_type": "execute_result"
    }
   ],
   "source": [
    "df_wines = pd.read_csv(\"wines.csv\")\n",
    "df_wines.head()"
   ]
  },
  {
   "cell_type": "code",
   "execution_count": 3,
   "id": "f470e306",
   "metadata": {},
   "outputs": [
    {
     "data": {
      "text/html": [
       "<div>\n",
       "<style scoped>\n",
       "    .dataframe tbody tr th:only-of-type {\n",
       "        vertical-align: middle;\n",
       "    }\n",
       "\n",
       "    .dataframe tbody tr th {\n",
       "        vertical-align: top;\n",
       "    }\n",
       "\n",
       "    .dataframe thead th {\n",
       "        text-align: right;\n",
       "    }\n",
       "</style>\n",
       "<table border=\"1\" class=\"dataframe\">\n",
       "  <thead>\n",
       "    <tr style=\"text-align: right;\">\n",
       "      <th></th>\n",
       "      <th>Alcohol %</th>\n",
       "      <th>Malic Acid</th>\n",
       "      <th>Ash</th>\n",
       "      <th>Alkalinity</th>\n",
       "      <th>Mg</th>\n",
       "      <th>Phenols</th>\n",
       "      <th>Flavanoids</th>\n",
       "      <th>Phenols.1</th>\n",
       "      <th>Proantho-cyanins</th>\n",
       "      <th>Color intensity</th>\n",
       "      <th>Hue</th>\n",
       "      <th>OD280 315</th>\n",
       "      <th>Proline</th>\n",
       "    </tr>\n",
       "  </thead>\n",
       "  <tbody>\n",
       "    <tr>\n",
       "      <th>0</th>\n",
       "      <td>14.23</td>\n",
       "      <td>1.71</td>\n",
       "      <td>2.43</td>\n",
       "      <td>15.6</td>\n",
       "      <td>127</td>\n",
       "      <td>2.8</td>\n",
       "      <td>3.06</td>\n",
       "      <td>0.28</td>\n",
       "      <td>2.29</td>\n",
       "      <td>5.64</td>\n",
       "      <td>1.04</td>\n",
       "      <td>3.92</td>\n",
       "      <td>1065</td>\n",
       "    </tr>\n",
       "    <tr>\n",
       "      <th>1</th>\n",
       "      <td>13.24</td>\n",
       "      <td>2.59</td>\n",
       "      <td>2.87</td>\n",
       "      <td>21.0</td>\n",
       "      <td>118</td>\n",
       "      <td>2.8</td>\n",
       "      <td>2.69</td>\n",
       "      <td>0.39</td>\n",
       "      <td>1.82</td>\n",
       "      <td>4.32</td>\n",
       "      <td>1.04</td>\n",
       "      <td>2.93</td>\n",
       "      <td>735</td>\n",
       "    </tr>\n",
       "    <tr>\n",
       "      <th>2</th>\n",
       "      <td>14.83</td>\n",
       "      <td>1.64</td>\n",
       "      <td>2.17</td>\n",
       "      <td>14.0</td>\n",
       "      <td>97</td>\n",
       "      <td>2.8</td>\n",
       "      <td>2.98</td>\n",
       "      <td>0.29</td>\n",
       "      <td>1.98</td>\n",
       "      <td>5.20</td>\n",
       "      <td>1.08</td>\n",
       "      <td>2.85</td>\n",
       "      <td>1045</td>\n",
       "    </tr>\n",
       "    <tr>\n",
       "      <th>3</th>\n",
       "      <td>14.12</td>\n",
       "      <td>1.48</td>\n",
       "      <td>2.32</td>\n",
       "      <td>16.8</td>\n",
       "      <td>95</td>\n",
       "      <td>2.2</td>\n",
       "      <td>2.43</td>\n",
       "      <td>0.26</td>\n",
       "      <td>1.57</td>\n",
       "      <td>5.00</td>\n",
       "      <td>1.17</td>\n",
       "      <td>2.82</td>\n",
       "      <td>1280</td>\n",
       "    </tr>\n",
       "    <tr>\n",
       "      <th>4</th>\n",
       "      <td>13.75</td>\n",
       "      <td>1.73</td>\n",
       "      <td>2.41</td>\n",
       "      <td>16.0</td>\n",
       "      <td>89</td>\n",
       "      <td>2.6</td>\n",
       "      <td>2.76</td>\n",
       "      <td>0.29</td>\n",
       "      <td>1.81</td>\n",
       "      <td>5.60</td>\n",
       "      <td>1.15</td>\n",
       "      <td>2.90</td>\n",
       "      <td>1320</td>\n",
       "    </tr>\n",
       "  </tbody>\n",
       "</table>\n",
       "</div>"
      ],
      "text/plain": [
       "   Alcohol %  Malic Acid   Ash  Alkalinity   Mg  Phenols  Flavanoids  \\\n",
       "0      14.23        1.71  2.43        15.6  127      2.8        3.06   \n",
       "1      13.24        2.59  2.87        21.0  118      2.8        2.69   \n",
       "2      14.83        1.64  2.17        14.0   97      2.8        2.98   \n",
       "3      14.12        1.48  2.32        16.8   95      2.2        2.43   \n",
       "4      13.75        1.73  2.41        16.0   89      2.6        2.76   \n",
       "\n",
       "   Phenols.1  Proantho-cyanins  Color intensity   Hue  OD280 315  Proline  \n",
       "0       0.28              2.29             5.64  1.04       3.92     1065  \n",
       "1       0.39              1.82             4.32  1.04       2.93      735  \n",
       "2       0.29              1.98             5.20  1.08       2.85     1045  \n",
       "3       0.26              1.57             5.00  1.17       2.82     1280  \n",
       "4       0.29              1.81             5.60  1.15       2.90     1320  "
      ]
     },
     "execution_count": 3,
     "metadata": {},
     "output_type": "execute_result"
    }
   ],
   "source": [
    "df_feats = df_wines.copy().drop(columns = ['Start assignment', 'ranking'])\n",
    "df_feats.head()"
   ]
  },
  {
   "cell_type": "code",
   "execution_count": 4,
   "id": "1253643d",
   "metadata": {},
   "outputs": [],
   "source": [
    "from sklearn.preprocessing import StandardScaler\n",
    "scaler = StandardScaler()\n",
    "scaler.fit(df_feats.values)\n",
    "ar_feats_nml = scaler.transform(df_feats.values)"
   ]
  },
  {
   "cell_type": "code",
   "execution_count": 5,
   "id": "045af654",
   "metadata": {},
   "outputs": [
    {
     "data": {
      "text/html": [
       "<div>\n",
       "<style scoped>\n",
       "    .dataframe tbody tr th:only-of-type {\n",
       "        vertical-align: middle;\n",
       "    }\n",
       "\n",
       "    .dataframe tbody tr th {\n",
       "        vertical-align: top;\n",
       "    }\n",
       "\n",
       "    .dataframe thead th {\n",
       "        text-align: right;\n",
       "    }\n",
       "</style>\n",
       "<table border=\"1\" class=\"dataframe\">\n",
       "  <thead>\n",
       "    <tr style=\"text-align: right;\">\n",
       "      <th></th>\n",
       "      <th>Alcohol %</th>\n",
       "      <th>Malic Acid</th>\n",
       "      <th>Ash</th>\n",
       "      <th>Alkalinity</th>\n",
       "      <th>Mg</th>\n",
       "      <th>Phenols</th>\n",
       "      <th>Flavanoids</th>\n",
       "      <th>Phenols.1</th>\n",
       "      <th>Proantho-cyanins</th>\n",
       "      <th>Color intensity</th>\n",
       "      <th>Hue</th>\n",
       "      <th>OD280 315</th>\n",
       "      <th>Proline</th>\n",
       "    </tr>\n",
       "  </thead>\n",
       "  <tbody>\n",
       "    <tr>\n",
       "      <th>0</th>\n",
       "      <td>1.518613</td>\n",
       "      <td>-0.562250</td>\n",
       "      <td>0.232053</td>\n",
       "      <td>-1.169593</td>\n",
       "      <td>1.913905</td>\n",
       "      <td>0.808997</td>\n",
       "      <td>1.034819</td>\n",
       "      <td>-0.659563</td>\n",
       "      <td>1.224884</td>\n",
       "      <td>0.251717</td>\n",
       "      <td>0.362177</td>\n",
       "      <td>1.847920</td>\n",
       "      <td>1.013009</td>\n",
       "    </tr>\n",
       "    <tr>\n",
       "      <th>1</th>\n",
       "      <td>0.295700</td>\n",
       "      <td>0.227694</td>\n",
       "      <td>1.840403</td>\n",
       "      <td>0.451946</td>\n",
       "      <td>1.281985</td>\n",
       "      <td>0.808997</td>\n",
       "      <td>0.663351</td>\n",
       "      <td>0.226796</td>\n",
       "      <td>0.401404</td>\n",
       "      <td>-0.319276</td>\n",
       "      <td>0.362177</td>\n",
       "      <td>0.449601</td>\n",
       "      <td>-0.037874</td>\n",
       "    </tr>\n",
       "    <tr>\n",
       "      <th>2</th>\n",
       "      <td>2.259772</td>\n",
       "      <td>-0.625086</td>\n",
       "      <td>-0.718336</td>\n",
       "      <td>-1.650049</td>\n",
       "      <td>-0.192495</td>\n",
       "      <td>0.808997</td>\n",
       "      <td>0.954502</td>\n",
       "      <td>-0.578985</td>\n",
       "      <td>0.681738</td>\n",
       "      <td>0.061386</td>\n",
       "      <td>0.537671</td>\n",
       "      <td>0.336606</td>\n",
       "      <td>0.949319</td>\n",
       "    </tr>\n",
       "    <tr>\n",
       "      <th>3</th>\n",
       "      <td>1.382733</td>\n",
       "      <td>-0.768712</td>\n",
       "      <td>-0.170035</td>\n",
       "      <td>-0.809251</td>\n",
       "      <td>-0.332922</td>\n",
       "      <td>-0.152402</td>\n",
       "      <td>0.402320</td>\n",
       "      <td>-0.820719</td>\n",
       "      <td>-0.036617</td>\n",
       "      <td>-0.025128</td>\n",
       "      <td>0.932531</td>\n",
       "      <td>0.294232</td>\n",
       "      <td>1.697675</td>\n",
       "    </tr>\n",
       "    <tr>\n",
       "      <th>4</th>\n",
       "      <td>0.925685</td>\n",
       "      <td>-0.544297</td>\n",
       "      <td>0.158946</td>\n",
       "      <td>-1.049479</td>\n",
       "      <td>-0.754202</td>\n",
       "      <td>0.488531</td>\n",
       "      <td>0.733629</td>\n",
       "      <td>-0.578985</td>\n",
       "      <td>0.383884</td>\n",
       "      <td>0.234414</td>\n",
       "      <td>0.844785</td>\n",
       "      <td>0.407228</td>\n",
       "      <td>1.825055</td>\n",
       "    </tr>\n",
       "  </tbody>\n",
       "</table>\n",
       "</div>"
      ],
      "text/plain": [
       "   Alcohol %  Malic Acid       Ash  Alkalinity        Mg   Phenols  \\\n",
       "0   1.518613   -0.562250  0.232053   -1.169593  1.913905  0.808997   \n",
       "1   0.295700    0.227694  1.840403    0.451946  1.281985  0.808997   \n",
       "2   2.259772   -0.625086 -0.718336   -1.650049 -0.192495  0.808997   \n",
       "3   1.382733   -0.768712 -0.170035   -0.809251 -0.332922 -0.152402   \n",
       "4   0.925685   -0.544297  0.158946   -1.049479 -0.754202  0.488531   \n",
       "\n",
       "   Flavanoids  Phenols.1  Proantho-cyanins  Color intensity       Hue  \\\n",
       "0    1.034819  -0.659563          1.224884         0.251717  0.362177   \n",
       "1    0.663351   0.226796          0.401404        -0.319276  0.362177   \n",
       "2    0.954502  -0.578985          0.681738         0.061386  0.537671   \n",
       "3    0.402320  -0.820719         -0.036617        -0.025128  0.932531   \n",
       "4    0.733629  -0.578985          0.383884         0.234414  0.844785   \n",
       "\n",
       "   OD280 315   Proline  \n",
       "0   1.847920  1.013009  \n",
       "1   0.449601 -0.037874  \n",
       "2   0.336606  0.949319  \n",
       "3   0.294232  1.697675  \n",
       "4   0.407228  1.825055  "
      ]
     },
     "execution_count": 5,
     "metadata": {},
     "output_type": "execute_result"
    }
   ],
   "source": [
    "df_feats_nml = pd.DataFrame(data = ar_feats_nml, columns = df_feats.columns)\n",
    "df_feats_nml.head()"
   ]
  },
  {
   "cell_type": "markdown",
   "id": "9380802a",
   "metadata": {},
   "source": [
    "## 2a:"
   ]
  },
  {
   "cell_type": "markdown",
   "id": "79270737",
   "metadata": {},
   "source": [
    "### Gaussian Naive Bayes"
   ]
  },
  {
   "cell_type": "code",
   "execution_count": 6,
   "id": "bbc10751",
   "metadata": {},
   "outputs": [],
   "source": [
    "class NaiveBayesClassifier():\n",
    "    def __init__(self):\n",
    "        self.type_indices={}    # store the indices of wines that belong to each cultivar as a boolean array of length 178\n",
    "        self.type_stats={}      # store the mean and std of each cultivar\n",
    "        self.ndata = 0\n",
    "        self.trained=False\n",
    "    \n",
    "    @staticmethod\n",
    "    def pdf(x, feat_mean, feat_std):\n",
    "        # Gaussian Probability Distribution Function\n",
    "        cmn_scal = 2 * (feat_std)**2\n",
    "        scalar = (1 / np.sqrt(np.pi * cmn_scal))\n",
    "        exponent = -1 *(((x - feat_mean) **2) / cmn_scal)\n",
    "        prob = scalar * np.exp(exponent)\n",
    "        return prob\n",
    "    \n",
    "    @staticmethod\n",
    "    def calculate_statistics(x_values):\n",
    "        # Returns a list with length of input features. \n",
    "        # Each element is a tuple, with the input feature's average and standard deviation\n",
    "        n_feats=x_values.shape[1]\n",
    "        return [(np.average(x_values[:,n]), np.std(x_values[:,n])) for n in range(n_feats)]\n",
    "    \n",
    "    @staticmethod\n",
    "    def calculate_prob(x_input, mn_std_clfts):\n",
    "        \"\"\"\n",
    "        Calculate the probability that the input features belong to a specific class(P(X|C)), \n",
    "        defined by the statistics of features in that class\n",
    "        x_input: np.array shape(nfeatures)\n",
    "        \n",
    "        Other additional parameters as needed for calculating probabilities.\n",
    "        Hint: this can be a list of tuple [(mean1,std1), (means2,std2),...]\n",
    "        \"\"\" \n",
    "        ft_cnd_pbs = [NaiveBayesClassifier.pdf(x_input[i], mn_std_clfts[i][0], mn_std_clfts[i][1]) for i in range(len(mn_std_clfts))]\n",
    "        init_prob = np.prod(ft_cnd_pbs)\n",
    "        return init_prob\n",
    "    \n",
    "    def fit(self,xs,ys):\n",
    "        # Train the classifier by calculating the statistics of different features in each class\n",
    "        self.ndata = len(ys)\n",
    "        for y in set(ys):\n",
    "            type_filter= (ys==y)\n",
    "            self.type_indices[y]=type_filter\n",
    "            self.type_stats[y]=self.calculate_statistics(xs[type_filter])\n",
    "        self.trained=True\n",
    "            \n",
    "    def predict(self, xs):\n",
    "        # Do the prediction by outputing the class that has highest probability\n",
    "        if len(xs.shape)>1:\n",
    "            print(\"Only accepts one sample at a time!\")\n",
    "        if self.trained:\n",
    "            guess=None\n",
    "            max_prob=0\n",
    "            # P(C|X) = P(X|C)*P(C) / sum_i(P(X|C_i)*P(C_i)) (deniminator for normalization only, can be ignored)\n",
    "            #for y_type in self.type_stats:\n",
    "            for y in self.type_indices.keys():\n",
    "                class_prob = self.type_indices[y].sum() / len(self.type_indices[y])\n",
    "                prob= class_prob * self.calculate_prob(xs, self.type_stats[y])\n",
    "                if prob>max_prob:\n",
    "                    max_prob=prob\n",
    "                    # guess=y_type\n",
    "                    guess = y\n",
    "            return guess\n",
    "        else:\n",
    "            print(\"Please train the classifier first!\")"
   ]
  },
  {
   "cell_type": "code",
   "execution_count": 7,
   "id": "ea05a952",
   "metadata": {},
   "outputs": [],
   "source": [
    "NBC = NaiveBayesClassifier()\n",
    "NBC.fit(df_feats.values, df_wines['ranking'].values)"
   ]
  },
  {
   "cell_type": "code",
   "execution_count": 8,
   "id": "2c8619f1",
   "metadata": {},
   "outputs": [
    {
     "data": {
      "text/plain": [
       "0.23236757865410357"
      ]
     },
     "execution_count": 8,
     "metadata": {},
     "output_type": "execute_result"
    }
   ],
   "source": [
    "# Probability for Alcohol having value of 13 given wine belongs to cultivar 1\n",
    "NBC.pdf(13, NBC.type_stats[1][0][0], NBC.type_stats[1][0][1])"
   ]
  },
  {
   "cell_type": "markdown",
   "id": "37d65b5c",
   "metadata": {},
   "source": [
    "I chose the functional form of a gaussian distribution because the features are continuous and assuming the features follow a gaussian distribution. I don't think I can make the assumption that the features are independent since the covariance matrix of the features dataset has nonzero values along its diagonal. "
   ]
  },
  {
   "cell_type": "markdown",
   "id": "bd3cf00f",
   "metadata": {},
   "source": [
    "## 2b:"
   ]
  },
  {
   "cell_type": "markdown",
   "id": "cc8c3b14",
   "metadata": {},
   "source": [
    "A performance tester:"
   ]
  },
  {
   "cell_type": "code",
   "execution_count": 9,
   "id": "5eaa70fe",
   "metadata": {},
   "outputs": [],
   "source": [
    "def calculate_accuracy(model,xs,ys):\n",
    "    y_pred=np.zeros_like(ys)\n",
    "    for idx,x in enumerate(xs):\n",
    "        y_pred[idx]=model.predict(x)\n",
    "    return np.sum(ys==y_pred)/len(ys)"
   ]
  },
  {
   "cell_type": "code",
   "execution_count": 10,
   "id": "d936de01",
   "metadata": {},
   "outputs": [
    {
     "name": "stdout",
     "output_type": "stream",
     "text": [
      "Train accuracy: 0.9830508474576272\n",
      "Test accuracy: 0.9666666666666667\n",
      "Train accuracy: 0.9831932773109243\n",
      "Test accuracy: 0.9830508474576272\n",
      "Train accuracy: 0.9915966386554622\n",
      "Test accuracy: 0.9830508474576272\n"
     ]
    }
   ],
   "source": [
    "# Results are consistent regardless of shuffling of data, so there is no bias in the dataset influencing accuracy\n",
    "from sklearn.model_selection import KFold, train_test_split\n",
    "kf = KFold(n_splits= 3, shuffle= True)\n",
    "ls_trnacs = []\n",
    "ls_tstacs = []\n",
    "for train_indices, test_indices in kf.split(df_feats_nml, df_wines['ranking']):\n",
    "    X_train = df_feats_nml.values[train_indices]\n",
    "    y_train = df_wines['ranking'][train_indices]\n",
    "    X_test = df_feats_nml.values[test_indices]\n",
    "    y_test = df_wines['ranking'][test_indices]\n",
    "    NBC = NaiveBayesClassifier()\n",
    "    NBC.fit(X_train, y_train)\n",
    "    # train accuracy\n",
    "    train_ac = calculate_accuracy(NBC, X_train, y_train)\n",
    "    ls_trnacs.append(train_ac)\n",
    "    print(\"Train accuracy: \" + str(train_ac))\n",
    "    # test accuracy\n",
    "    test_ac = calculate_accuracy(NBC, X_test, y_test)\n",
    "    ls_tstacs.append(test_ac)\n",
    "    print(\"Test accuracy: \" + str(test_ac))"
   ]
  },
  {
   "cell_type": "markdown",
   "id": "9fed63b4",
   "metadata": {},
   "source": [
    "Yes, Gaussian Naive Bayes performs just as well as previous methods like simulated annealing and is arguably better because of Gaussian Naive Bayes' superior accuracy metrics on the test data."
   ]
  },
  {
   "cell_type": "markdown",
   "id": "e75eeb2c",
   "metadata": {},
   "source": [
    "## 3a"
   ]
  },
  {
   "cell_type": "code",
   "execution_count": 11,
   "id": "808a686f",
   "metadata": {},
   "outputs": [],
   "source": [
    "class LinearNN(nn.Module):\n",
    "    def __init__(self):\n",
    "        super().__init__() # initializes the gradient descent\n",
    "        self.layers = nn.Sequential(\n",
    "        nn.Linear(13,3)) \n",
    "    def forward(self,x):\n",
    "        return self.layers(x)"
   ]
  },
  {
   "cell_type": "code",
   "execution_count": 12,
   "id": "30c6ad52",
   "metadata": {},
   "outputs": [],
   "source": [
    "X_subset = torch.tensor(X_train[:10], dtype = torch.float)"
   ]
  },
  {
   "cell_type": "code",
   "execution_count": 13,
   "id": "cff28b7e",
   "metadata": {},
   "outputs": [
    {
     "data": {
      "text/plain": [
       "tensor([[-0.2804,  0.3729, -0.1688],\n",
       "        [ 0.2009,  0.9123, -0.0155],\n",
       "        [-0.4076,  0.9273, -0.4429],\n",
       "        [-0.2019,  0.9883, -0.1090],\n",
       "        [-0.1559,  0.9906,  0.1022],\n",
       "        [ 0.3083,  0.6459,  0.4592],\n",
       "        [-0.5277,  0.6809, -0.4612],\n",
       "        [-0.8198,  0.6748, -0.7789],\n",
       "        [-0.1792,  0.6631, -0.2664],\n",
       "        [-0.1447,  0.6387, -0.0847]], grad_fn=<AddmmBackward0>)"
      ]
     },
     "execution_count": 13,
     "metadata": {},
     "output_type": "execute_result"
    }
   ],
   "source": [
    "model = LinearNN()\n",
    "model(X_subset)"
   ]
  },
  {
   "cell_type": "code",
   "execution_count": 14,
   "id": "1f21bc37",
   "metadata": {},
   "outputs": [
    {
     "data": {
      "text/plain": [
       "tensor([-0.0763,  1.0976,  0.0768,  0.6774,  0.9368,  1.4134, -0.3081, -0.9240,\n",
       "         0.2175,  0.4093], grad_fn=<SumBackward1>)"
      ]
     },
     "execution_count": 14,
     "metadata": {},
     "output_type": "execute_result"
    }
   ],
   "source": [
    "model(X_subset).sum(dim = 1)"
   ]
  },
  {
   "cell_type": "code",
   "execution_count": 15,
   "id": "deea0846",
   "metadata": {},
   "outputs": [],
   "source": [
    "class LinearNN(nn.Module):\n",
    "    def __init__(self):\n",
    "        super().__init__() # initializes the gradient descent\n",
    "        self.layers = nn.Sequential(\n",
    "        nn.Linear(13,3),\n",
    "        nn.Softmax(dim = 1)) \n",
    "    def forward(self,x):\n",
    "        return self.layers(x)"
   ]
  },
  {
   "cell_type": "code",
   "execution_count": 16,
   "id": "a22aacfa",
   "metadata": {},
   "outputs": [
    {
     "data": {
      "text/plain": [
       "tensor([[0.3038, 0.3179, 0.3784],\n",
       "        [0.2447, 0.4314, 0.3239],\n",
       "        [0.2556, 0.3055, 0.4389],\n",
       "        [0.2453, 0.3685, 0.3862],\n",
       "        [0.3332, 0.3667, 0.3001],\n",
       "        [0.3331, 0.4428, 0.2241],\n",
       "        [0.3079, 0.2605, 0.4316],\n",
       "        [0.2906, 0.2164, 0.4930],\n",
       "        [0.3241, 0.2939, 0.3820],\n",
       "        [0.3038, 0.3366, 0.3595]], grad_fn=<SoftmaxBackward0>)"
      ]
     },
     "execution_count": 16,
     "metadata": {},
     "output_type": "execute_result"
    }
   ],
   "source": [
    "model = LinearNN()\n",
    "model(X_subset)"
   ]
  },
  {
   "cell_type": "code",
   "execution_count": 17,
   "id": "c3ad627e",
   "metadata": {},
   "outputs": [
    {
     "data": {
      "text/plain": [
       "tensor([1., 1., 1., 1., 1., 1., 1., 1., 1., 1.], grad_fn=<SumBackward1>)"
      ]
     },
     "execution_count": 17,
     "metadata": {},
     "output_type": "execute_result"
    }
   ],
   "source": [
    "model(X_subset).sum(dim = 1)"
   ]
  },
  {
   "cell_type": "markdown",
   "id": "d1c053aa",
   "metadata": {},
   "source": [
    "Softmax appears to normalize all of the values of the output to sum up to 1. Because of this change, the output appears to function as probabilities and indicate they are probabilities. Without the softmax activation function layer, it is tough to make any interpretations on the meaning of the output."
   ]
  },
  {
   "cell_type": "markdown",
   "id": "ed990788",
   "metadata": {},
   "source": [
    "## 3b:"
   ]
  },
  {
   "cell_type": "code",
   "execution_count": 18,
   "id": "1f41db28",
   "metadata": {},
   "outputs": [],
   "source": [
    "class LinearNN(nn.Module):\n",
    "    def __init__(self):\n",
    "        super().__init__() # initializes the gradient descent\n",
    "        self.layers = nn.Sequential(\n",
    "        nn.Linear(13,3),\n",
    "        nn.Softmax(dim = 1)) \n",
    "    def forward(self,x):\n",
    "        return self.layers(x)"
   ]
  },
  {
   "cell_type": "code",
   "execution_count": 19,
   "id": "0b4c6fc4",
   "metadata": {},
   "outputs": [
    {
     "data": {
      "text/plain": [
       "{0, 1, 2}"
      ]
     },
     "execution_count": 19,
     "metadata": {},
     "output_type": "execute_result"
    }
   ],
   "source": [
    "nn_labels = df_wines['ranking'] - 1\n",
    "set(nn_labels)"
   ]
  },
  {
   "cell_type": "code",
   "execution_count": 20,
   "id": "9f151e67",
   "metadata": {},
   "outputs": [],
   "source": [
    "# you can use this framework to do training and validation           \n",
    "def train_and_val(model,train_X,train_y,epochs,draw_curve=True):\n",
    "    \"\"\"\n",
    "    Parameters\n",
    "    --------------\n",
    "    model: a PyTorch model\n",
    "    train_X: np.array shape(ndata,nfeatures)\n",
    "    train_y: np.array shape(ndata)\n",
    "    epochs: int\n",
    "    draw_curve: bool\n",
    "    \"\"\"\n",
    "    ### Define your loss function, optimizer. Convert data to torch tensor ###\n",
    "    \n",
    "    loss_func = nn.CrossEntropyLoss()\n",
    "    optimizer = torch.optim.Adam(model.parameters(), lr = 2e-3)\n",
    "    torch_feats = torch.tensor(train_X, dtype = torch.float)\n",
    "    torch_labels = torch.tensor(train_y, dtype = torch.long)\n",
    "    \n",
    "    ### Split training examples further into training and validation ###\n",
    "    kf = KFold(n_splits= 3, shuffle = True)\n",
    "    train_acc_all = []\n",
    "    test_acc_all = []\n",
    "    for train_ind, test_ind in kf.split(torch_feats, torch_labels):\n",
    "        X_train = torch_feats[train_ind]\n",
    "        y_train = torch_labels[train_ind]\n",
    "        X_test = torch_feats[test_ind]\n",
    "        y_test = torch_labels[test_ind]\n",
    "        \n",
    "        trainval_X, X_valid, trainval_y, y_valid = train_test_split(X_train, y_train, test_size=0.20)\n",
    "        \n",
    "        val_array=[]\n",
    "        lowest_val_loss = np.inf\n",
    "    \n",
    "        for i in range(epochs):\n",
    "            ### Compute the loss and do backpropagation ###\n",
    "            pred = model(trainval_X)\n",
    "            loss = loss_func(pred,trainval_y)\n",
    "            optimizer.zero_grad() # Set current gradient to 0\n",
    "            loss.backward() # Propagate loss backward through layers\n",
    "            optimizer.step() # Step an iteration where an iteration is another instance of tuning weights via gradient descent\n",
    "        \n",
    "            ### compute validation loss and keep track of the lowest val loss ###\n",
    "            # error probably at the val_error line\n",
    "            val_pred = model(X_valid)\n",
    "            val_error = loss_func(val_pred, y_valid)\n",
    "            if val_error < lowest_val_loss:\n",
    "                weights = model.state_dict()\n",
    "                lowest_val_loss = val_error\n",
    "            val_array.append(val_error.detach().numpy())\n",
    "    \n",
    "        # The final number of epochs is when the minimum error in validation set occurs \n",
    "        final_epochs=np.argmin(val_array)+1\n",
    "        print(\"Number of epochs with lowest validation:\",final_epochs)\n",
    "        ### Recover the model weight ###\n",
    "        model.load_state_dict(weights)\n",
    "        \n",
    "        train_pred_prob = model(X_train)\n",
    "        train_predclass = np.argmax(train_pred_prob.detach().numpy(), axis = 1) \n",
    "        train_acc = np.sum((train_predclass == y_train.numpy()) / len(train_predclass))\n",
    "        print(\"Train accuracy:\",train_acc)\n",
    "        print(\"Train error:\", 1-train_acc)\n",
    "        print(\"--------------------------------\")\n",
    "        train_acc_all.append(train_acc)\n",
    "        \n",
    "        test_pred_prob = model(X_test)\n",
    "        test_predclass = np.argmax(test_pred_prob.detach().numpy(), axis = 1)\n",
    "        test_acc= np.sum((test_predclass == y_test.numpy()) / len(test_predclass))\n",
    "        test_acc_all.append(test_acc)\n",
    "        print(\"Test accuracy:\",test_acc)\n",
    "        print(\"Test error:\", 1-test_acc)\n",
    "        print(\"--------------------------------\")\n",
    "        \n",
    "        if draw_curve:\n",
    "            plt.figure()\n",
    "            plt.plot(np.arange(len(val_array))+1,val_array,label='Validation loss')\n",
    "            plt.xlabel('Epochs')\n",
    "            plt.ylabel('Loss')\n",
    "            plt.legend()\n",
    "            \n",
    "    return model\n"
   ]
  },
  {
   "cell_type": "code",
   "execution_count": 21,
   "id": "0f51c62b",
   "metadata": {},
   "outputs": [
    {
     "name": "stdout",
     "output_type": "stream",
     "text": [
      "Number of epochs with lowest validation: 900\n",
      "Train accuracy: 1.0000000000000002\n",
      "Train error: -2.220446049250313e-16\n",
      "--------------------------------\n",
      "Test accuracy: 0.9833333333333334\n",
      "Test error: 0.016666666666666607\n",
      "--------------------------------\n",
      "Number of epochs with lowest validation: 349\n",
      "Train accuracy: 0.9999999999999997\n",
      "Train error: 3.3306690738754696e-16\n",
      "--------------------------------\n",
      "Test accuracy: 0.9830508474576269\n",
      "Test error: 0.016949152542373058\n",
      "--------------------------------\n",
      "Number of epochs with lowest validation: 900\n",
      "Train accuracy: 0.9999999999999997\n",
      "Train error: 3.3306690738754696e-16\n",
      "--------------------------------\n",
      "Test accuracy: 0.9830508474576269\n",
      "Test error: 0.016949152542373058\n",
      "--------------------------------\n"
     ]
    },
    {
     "data": {
      "image/png": "[encoded data removed]",
      "text/plain": [
       "<Figure size 432x288 with 1 Axes>"
      ]
     },
     "metadata": {
      "needs_background": "light"
     },
     "output_type": "display_data"
    },
    {
     "data": {
      "image/png": "[encoded data removed]",
      "text/plain": [
       "<Figure size 432x288 with 1 Axes>"
      ]
     },
     "metadata": {
      "needs_background": "light"
     },
     "output_type": "display_data"
    },
    {
     "data": {
      "image/png": "[encoded data removed]",
      "text/plain": [
       "<Figure size 432x288 with 1 Axes>"
      ]
     },
     "metadata": {
      "needs_background": "light"
     },
     "output_type": "display_data"
    }
   ],
   "source": [
    "linNN = LinearNN()\n",
    "trained_model = train_and_val(linNN, df_feats_nml.values, nn_labels,900)"
   ]
  },
  {
   "cell_type": "markdown",
   "id": "bf281bfd",
   "metadata": {},
   "source": [
    "This classification is excellent! Consistently correctly classifying at least 97% of the test dataset every time."
   ]
  }
 ],
 "metadata": {
  "kernelspec": {
   "display_name": "ml_env",
   "language": "python",
   "name": "ml_env"
  },
  "language_info": {
   "codemirror_mode": {
    "name": "ipython",
    "version": 3
   },
   "file_extension": ".py",
   "mimetype": "text/x-python",
   "name": "python",
   "nbconvert_exporter": "python",
   "pygments_lexer": "ipython3",
   "version": "3.9.12"
  }
 },
 "nbformat": 4,
 "nbformat_minor": 5
}
